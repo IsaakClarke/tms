{
 "cells": [
  {
   "cell_type": "code",
   "execution_count": 4,
   "id": "d5864b77-5c38-405f-9287-6408d9a2c3c2",
   "metadata": {},
   "outputs": [],
   "source": [
    "# SibSp + Parch - точно размер семьи\n",
    "# \"Survived\": \"Выжил\", \"Name\": \"Имя\", \"Sex\": \"Пол\", \"Age\": \"Возраст\" - индивидуальные характеристики\n",
    "# + \"Pclass\": \"Класс билета\" и \"Fare\": \"Стоимость билета\" - социальный статус, тоже индивидуальная х-ка\n",
    "# Женщины без детей выживают лучше, чем с детьми; Мужчины без детей практически не выживают; Ситуация чуть уравнивается, если есть больше 0 детей или родителей на борту\n",
    "# близкая к 50% выживаемость у мужчин только в 1 классе; Женщины в 1 классе практически все выжили, во 2 аналогично, в 3 50/50\n",
    "# Проверить порт посадки; Для женщин: C - средний по численности, статистика выживаемости лучшая из 3 портов; следом идет Q по выживаемости, но народу там меньше всего; после идет S с худшей статистикой выживаемости и самой большой численностью\n",
    "# Проверить порт посадки; Доля мужчин: C - средняя численность, лучшая выживаемость, средняя численность; Q - малая численность, худшая выживаемость, S - наибольшая численность, средняя выживаемость\n",
    "# Можно попробовать взять рандомную семью с 4+ членами и глянуть на них\n",
    "# cемья Fortune, есть женщины, родители, братья/сестры, есть отец? (или кто это), но в данных есть 1 супруг, по номеру билета не ищется, по фамилии тоже, по каюте тоже\n",
    "# Будем считать что данных по ней нет, потому что по Quick кол-во супругов 0, хотя это женщина с 2 y.o. ребенком\n",
    "# по Fortune, 2/2 по гендеру, все женщины выжили, мужчины нет. Возраст мужчин - 19, 64, женщин - 23, 24. 1 класс, каюты одинаковые, порт посадки S (для женщин: худшей статистикой выживаемости и самой большой численностью, мужчин: наибольшая численность, средняя выживаемость)\n",
    "# Как правило, мужчин выжило гораздо меньше женщин, возраст тут роли не играет. Касаемо порта посадки, странно что женщины все выжили, мужчины нет.\n",
    "# Надо взять прям гигансткую семейку теперь из 3 класса и глянуть что с ней случилось. Если это и Титаник - то весь 3 класс откис потому, что шлюпки заняла элита\n",
    "# А одного из самых знаменитых актеров отправили дрейфовать в холодную воду\n",
    "# 8, Sage, нормально\n",
    "# в данных 8 сестер/братьев, 7 по факту. Все умерли, 3 класс, порт тоже S\n",
    "# ---Исходя из данных, выходит что порт S, 3 класс билета, мужчина - априори умирает почти всегда, тогда как женщина, 1 класс, C поррт с ребенком почти всегда выживает\n",
    "# ---большая семья, порт S, 3 класс билета, нет выживших (семьи Sage, Andersson, Goodwin)\n",
    "# ---Женщина, ребенок, порт C, 1 класс - почти гарантия выжить\n",
    "# Исключения - пока можно допустить прагматичность стариков, они уступали места другим.\n",
    "# дети до 12 лет вкл - почти 50/50 умирали независимо от пола\n",
    "# ---дети до 12 лет 1 класс - выживают 3/4\n",
    "# ---дети до 12 лет 3 класс - выживают 1/5\n",
    "# ---дети до 12 лет 2 класс - выживают 1 (все)\n",
    "# столбчатый какую то херню показал\n",
    "# ---Дети (<= 18) элиты (1 класс билета) выживали почти в 90% случаев\n",
    "\n",
    "# 1. если Возраст <= 12 -> Выжил = 1\n",
    "# 2. если Возраст <= 18 и Класс билета == 1 -> Выжил = 1\n",
    "# 3. если \"Количество братьев/сестер/супругов на борту\" + \"Количество родителей/детей на борту\" >= 5 и Класс билета == 3 -> Выжил = 0\n",
    "# 4. если Пол == 'female':\n",
    "#     - если Класс билета == 1 или Класс билета == 2 -> Выжил = 1\n",
    "#     - если Класс билета == 3:\n",
    "#         - если Порт посадки == 'S' -> Выжил = 0\n",
    "#         - иначе -> Выжил = 1\n",
    "# 5. если Пол == 'male':\n",
    "#     - если Класс билета == 1:\n",
    "#         - если Возраст < 15 или Порт посадки == 'C' -> Выжил = 1\n",
    "#         - иначе -> Выжил = 0\n",
    "#     - иначе -> Выжил = 0"
   ]
  },
  {
   "cell_type": "code",
   "execution_count": 6,
   "id": "dca0371f-5202-4ed1-802b-72edf63e7772",
   "metadata": {},
   "outputs": [
    {
     "data": {
      "text/html": [
       "<div>\n",
       "<style scoped>\n",
       "    .dataframe tbody tr th:only-of-type {\n",
       "        vertical-align: middle;\n",
       "    }\n",
       "\n",
       "    .dataframe tbody tr th {\n",
       "        vertical-align: top;\n",
       "    }\n",
       "\n",
       "    .dataframe thead th {\n",
       "        text-align: right;\n",
       "    }\n",
       "</style>\n",
       "<table border=\"1\" class=\"dataframe\">\n",
       "  <thead>\n",
       "    <tr style=\"text-align: right;\">\n",
       "      <th></th>\n",
       "      <th>Идентификатор пассажира</th>\n",
       "      <th>Выжил</th>\n",
       "      <th>Класс билета</th>\n",
       "      <th>Имя</th>\n",
       "      <th>Пол</th>\n",
       "      <th>Возраст</th>\n",
       "      <th>Количество братьев/сестер/супругов на борту</th>\n",
       "      <th>Количество родителей/детей на борту</th>\n",
       "      <th>Номер билета</th>\n",
       "      <th>Стоимость билета</th>\n",
       "      <th>Номер каюты</th>\n",
       "      <th>Порт посадки</th>\n",
       "      <th>Прогноз</th>\n",
       "    </tr>\n",
       "  </thead>\n",
       "  <tbody>\n",
       "    <tr>\n",
       "      <th>0</th>\n",
       "      <td>1</td>\n",
       "      <td>0</td>\n",
       "      <td>3</td>\n",
       "      <td>Braund, Mr. Owen Harris</td>\n",
       "      <td>male</td>\n",
       "      <td>22.0</td>\n",
       "      <td>1</td>\n",
       "      <td>0</td>\n",
       "      <td>A/5 21171</td>\n",
       "      <td>7.2500</td>\n",
       "      <td>NaN</td>\n",
       "      <td>S</td>\n",
       "      <td>0</td>\n",
       "    </tr>\n",
       "    <tr>\n",
       "      <th>1</th>\n",
       "      <td>2</td>\n",
       "      <td>1</td>\n",
       "      <td>1</td>\n",
       "      <td>Cumings, Mrs. John Bradley (Florence Briggs Th...</td>\n",
       "      <td>female</td>\n",
       "      <td>38.0</td>\n",
       "      <td>1</td>\n",
       "      <td>0</td>\n",
       "      <td>PC 17599</td>\n",
       "      <td>71.2833</td>\n",
       "      <td>C85</td>\n",
       "      <td>C</td>\n",
       "      <td>1</td>\n",
       "    </tr>\n",
       "    <tr>\n",
       "      <th>2</th>\n",
       "      <td>3</td>\n",
       "      <td>1</td>\n",
       "      <td>3</td>\n",
       "      <td>Heikkinen, Miss. Laina</td>\n",
       "      <td>female</td>\n",
       "      <td>26.0</td>\n",
       "      <td>0</td>\n",
       "      <td>0</td>\n",
       "      <td>STON/O2. 3101282</td>\n",
       "      <td>7.9250</td>\n",
       "      <td>NaN</td>\n",
       "      <td>S</td>\n",
       "      <td>0</td>\n",
       "    </tr>\n",
       "    <tr>\n",
       "      <th>3</th>\n",
       "      <td>4</td>\n",
       "      <td>1</td>\n",
       "      <td>1</td>\n",
       "      <td>Futrelle, Mrs. Jacques Heath (Lily May Peel)</td>\n",
       "      <td>female</td>\n",
       "      <td>35.0</td>\n",
       "      <td>1</td>\n",
       "      <td>0</td>\n",
       "      <td>113803</td>\n",
       "      <td>53.1000</td>\n",
       "      <td>C123</td>\n",
       "      <td>S</td>\n",
       "      <td>1</td>\n",
       "    </tr>\n",
       "    <tr>\n",
       "      <th>4</th>\n",
       "      <td>5</td>\n",
       "      <td>0</td>\n",
       "      <td>3</td>\n",
       "      <td>Allen, Mr. William Henry</td>\n",
       "      <td>male</td>\n",
       "      <td>35.0</td>\n",
       "      <td>0</td>\n",
       "      <td>0</td>\n",
       "      <td>373450</td>\n",
       "      <td>8.0500</td>\n",
       "      <td>NaN</td>\n",
       "      <td>S</td>\n",
       "      <td>0</td>\n",
       "    </tr>\n",
       "    <tr>\n",
       "      <th>5</th>\n",
       "      <td>6</td>\n",
       "      <td>0</td>\n",
       "      <td>3</td>\n",
       "      <td>Moran, Mr. James</td>\n",
       "      <td>male</td>\n",
       "      <td>28.0</td>\n",
       "      <td>0</td>\n",
       "      <td>0</td>\n",
       "      <td>330877</td>\n",
       "      <td>8.4583</td>\n",
       "      <td>NaN</td>\n",
       "      <td>Q</td>\n",
       "      <td>0</td>\n",
       "    </tr>\n",
       "    <tr>\n",
       "      <th>6</th>\n",
       "      <td>7</td>\n",
       "      <td>0</td>\n",
       "      <td>1</td>\n",
       "      <td>McCarthy, Mr. Timothy J</td>\n",
       "      <td>male</td>\n",
       "      <td>54.0</td>\n",
       "      <td>0</td>\n",
       "      <td>0</td>\n",
       "      <td>17463</td>\n",
       "      <td>51.8625</td>\n",
       "      <td>E46</td>\n",
       "      <td>S</td>\n",
       "      <td>0</td>\n",
       "    </tr>\n",
       "    <tr>\n",
       "      <th>7</th>\n",
       "      <td>8</td>\n",
       "      <td>0</td>\n",
       "      <td>3</td>\n",
       "      <td>Palsson, Master. Gosta Leonard</td>\n",
       "      <td>male</td>\n",
       "      <td>2.0</td>\n",
       "      <td>3</td>\n",
       "      <td>1</td>\n",
       "      <td>349909</td>\n",
       "      <td>21.0750</td>\n",
       "      <td>NaN</td>\n",
       "      <td>S</td>\n",
       "      <td>1</td>\n",
       "    </tr>\n",
       "    <tr>\n",
       "      <th>8</th>\n",
       "      <td>9</td>\n",
       "      <td>1</td>\n",
       "      <td>3</td>\n",
       "      <td>Johnson, Mrs. Oscar W (Elisabeth Vilhelmina Berg)</td>\n",
       "      <td>female</td>\n",
       "      <td>27.0</td>\n",
       "      <td>0</td>\n",
       "      <td>2</td>\n",
       "      <td>347742</td>\n",
       "      <td>11.1333</td>\n",
       "      <td>NaN</td>\n",
       "      <td>S</td>\n",
       "      <td>0</td>\n",
       "    </tr>\n",
       "    <tr>\n",
       "      <th>9</th>\n",
       "      <td>10</td>\n",
       "      <td>1</td>\n",
       "      <td>2</td>\n",
       "      <td>Nasser, Mrs. Nicholas (Adele Achem)</td>\n",
       "      <td>female</td>\n",
       "      <td>14.0</td>\n",
       "      <td>1</td>\n",
       "      <td>0</td>\n",
       "      <td>237736</td>\n",
       "      <td>30.0708</td>\n",
       "      <td>NaN</td>\n",
       "      <td>C</td>\n",
       "      <td>1</td>\n",
       "    </tr>\n",
       "  </tbody>\n",
       "</table>\n",
       "</div>"
      ],
      "text/plain": [
       "   Идентификатор пассажира  Выжил  Класс билета  \\\n",
       "0                        1      0             3   \n",
       "1                        2      1             1   \n",
       "2                        3      1             3   \n",
       "3                        4      1             1   \n",
       "4                        5      0             3   \n",
       "5                        6      0             3   \n",
       "6                        7      0             1   \n",
       "7                        8      0             3   \n",
       "8                        9      1             3   \n",
       "9                       10      1             2   \n",
       "\n",
       "                                                 Имя     Пол  Возраст  \\\n",
       "0                            Braund, Mr. Owen Harris    male     22.0   \n",
       "1  Cumings, Mrs. John Bradley (Florence Briggs Th...  female     38.0   \n",
       "2                             Heikkinen, Miss. Laina  female     26.0   \n",
       "3       Futrelle, Mrs. Jacques Heath (Lily May Peel)  female     35.0   \n",
       "4                           Allen, Mr. William Henry    male     35.0   \n",
       "5                                   Moran, Mr. James    male     28.0   \n",
       "6                            McCarthy, Mr. Timothy J    male     54.0   \n",
       "7                     Palsson, Master. Gosta Leonard    male      2.0   \n",
       "8  Johnson, Mrs. Oscar W (Elisabeth Vilhelmina Berg)  female     27.0   \n",
       "9                Nasser, Mrs. Nicholas (Adele Achem)  female     14.0   \n",
       "\n",
       "   Количество братьев/сестер/супругов на борту  \\\n",
       "0                                            1   \n",
       "1                                            1   \n",
       "2                                            0   \n",
       "3                                            1   \n",
       "4                                            0   \n",
       "5                                            0   \n",
       "6                                            0   \n",
       "7                                            3   \n",
       "8                                            0   \n",
       "9                                            1   \n",
       "\n",
       "   Количество родителей/детей на борту      Номер билета  Стоимость билета  \\\n",
       "0                                    0         A/5 21171            7.2500   \n",
       "1                                    0          PC 17599           71.2833   \n",
       "2                                    0  STON/O2. 3101282            7.9250   \n",
       "3                                    0            113803           53.1000   \n",
       "4                                    0            373450            8.0500   \n",
       "5                                    0            330877            8.4583   \n",
       "6                                    0             17463           51.8625   \n",
       "7                                    1            349909           21.0750   \n",
       "8                                    2            347742           11.1333   \n",
       "9                                    0            237736           30.0708   \n",
       "\n",
       "  Номер каюты Порт посадки  Прогноз  \n",
       "0         NaN            S        0  \n",
       "1         C85            C        1  \n",
       "2         NaN            S        0  \n",
       "3        C123            S        1  \n",
       "4         NaN            S        0  \n",
       "5         NaN            Q        0  \n",
       "6         E46            S        0  \n",
       "7         NaN            S        1  \n",
       "8         NaN            S        0  \n",
       "9         NaN            C        1  "
      ]
     },
     "execution_count": 6,
     "metadata": {},
     "output_type": "execute_result"
    }
   ],
   "source": [
    "import os\n",
    "from dotenv import load_dotenv\n",
    "import pandas as pd\n",
    "\n",
    "load_dotenv(\"../.env\")\n",
    "\n",
    "df = pd.read_csv(os.getenv(\"LOCAL_LESSON6_DS\"))\n",
    "\n",
    "df = df.rename(columns = { \n",
    "    \"PassengerId\": \"Идентификатор пассажира\",\n",
    "    \"Survived\": \"Выжил\",\n",
    "    \"Pclass\": \"Класс билета\", \n",
    "    \"Name\": \"Имя\",\n",
    "    \"Sex\": \"Пол\",\n",
    "    \"Age\": \"Возраст\",\n",
    "    \"SibSp\": \"Количество братьев/сестер/супругов на борту\",\n",
    "    \"Parch\": \"Количество родителей/детей на борту\",\n",
    "    \"Ticket\": \"Номер билета\",\n",
    "    \"Fare\": \"Стоимость билета\",\n",
    "    \"Cabin\": \"Номер каюты\",\n",
    "    \"Embarked\": \"Порт посадки\"\n",
    "})\n",
    "\n",
    "df['Возраст'] = df['Возраст'].fillna(df['Возраст'].median()) # проверить какая точность\n",
    "\n",
    "def titan(row):\n",
    "    if row['Возраст'] <= 12:\n",
    "        return 1\n",
    "    \n",
    "    if row['Возраст'] <= 18 and row['Класс билета'] == 1:\n",
    "        return 1\n",
    "    \n",
    "    if (row['Количество братьев/сестер/супругов на борту'] + row['Количество родителей/детей на борту'] >= 5) and row['Класс билета'] == 3:\n",
    "        return 0\n",
    "    \n",
    "    if row['Пол'] == 'female':\n",
    "        if row['Класс билета'] in [1, 2]:\n",
    "            return 1\n",
    "        else:\n",
    "            return 0 if row['Порт посадки'] == 'S' else 1\n",
    "    \n",
    "    else:\n",
    "        if row['Класс билета'] == 1:\n",
    "            return 1 if row['Возраст'] < 15 or row['Порт посадки'] == 'C' else 0\n",
    "        else:\n",
    "            return 0\n",
    "        \n",
    "df['Прогноз'] = df.apply(titan, axis=1)\n",
    "\n",
    "df.head(10)"
   ]
  },
  {
   "cell_type": "code",
   "execution_count": 7,
   "id": "de591c7e-0024-4639-9070-a1e3c985e433",
   "metadata": {},
   "outputs": [
    {
     "data": {
      "text/plain": [
       "Series([], Name: count, dtype: int64)"
      ]
     },
     "execution_count": 7,
     "metadata": {},
     "output_type": "execute_result"
    }
   ],
   "source": [
    "df[df['Возраст'].isna()]['Возраст'].value_counts(dropna=False)"
   ]
  },
  {
   "cell_type": "code",
   "execution_count": 9,
   "id": "7e340507-b61c-4836-a022-3181a25e3ea6",
   "metadata": {},
   "outputs": [
    {
     "name": "stdout",
     "output_type": "stream",
     "text": [
      "0.8035914702581369\n"
     ]
    }
   ],
   "source": [
    "df['Верно'] = (df['Выжил'] == df['Прогноз']).astype(int)\n",
    "\n",
    "accuracy = df['Верно'].sum()/len(df)\n",
    "\n",
    "print(accuracy)"
   ]
  },
  {
   "cell_type": "code",
   "execution_count": 10,
   "id": "5222002c-a4a6-48cf-8fb5-a5eea8548b6e",
   "metadata": {},
   "outputs": [
    {
     "data": {
      "text/plain": [
       "np.float64(0.3838383838383838)"
      ]
     },
     "execution_count": 10,
     "metadata": {},
     "output_type": "execute_result"
    }
   ],
   "source": [
    "(df['Верно'] == df['Прогноз']).mean()"
   ]
  },
  {
   "cell_type": "code",
   "execution_count": 50,
   "id": "d0c134c4-51ae-4593-99d3-7afa7f862e12",
   "metadata": {},
   "outputs": [],
   "source": [
    "TP = df[(df['Верно'] == 1) & (df['Выжил'] == 1)]['Выжил'].sum()"
   ]
  },
  {
   "cell_type": "code",
   "execution_count": 41,
   "id": "64ac9056-813d-43b5-8786-23d5652b3c8c",
   "metadata": {},
   "outputs": [
    {
     "data": {
      "text/plain": [
       "np.int64(244)"
      ]
     },
     "execution_count": 41,
     "metadata": {},
     "output_type": "execute_result"
    }
   ],
   "source": [
    "df.query('Выжил == 1 & Выжил == Прогноз')['Выжил'].sum()"
   ]
  },
  {
   "cell_type": "code",
   "execution_count": 52,
   "id": "0bd5858e-d0b4-445c-8fd0-7abe8e1334e1",
   "metadata": {},
   "outputs": [],
   "source": [
    "FP = df[(df['Выжил'] == 0) & (df['Прогноз'] == 1)]['Прогноз'].sum()"
   ]
  },
  {
   "cell_type": "code",
   "execution_count": 49,
   "id": "9bddefd1-ccab-43da-9d75-f86e0fea036b",
   "metadata": {},
   "outputs": [
    {
     "data": {
      "text/plain": [
       "np.float64(0.7601246105919003)"
      ]
     },
     "execution_count": 49,
     "metadata": {},
     "output_type": "execute_result"
    }
   ],
   "source": [
    "df[(df['Выжил'] == 1) & (df['Прогноз'] == 1)]['Выжил'].sum()/(df.query('Выжил == 1 & Прогноз == 1')['Выжил'].sum() + df[(df['Выжил'] == 0) & (df['Прогноз'] == 1)]['Прогноз'].sum())"
   ]
  },
  {
   "cell_type": "code",
   "execution_count": 55,
   "id": "342c9bee-2e4e-4bf5-83e0-5ca7984c4b80",
   "metadata": {},
   "outputs": [
    {
     "name": "stdout",
     "output_type": "stream",
     "text": [
      "0.7601246105919003\n"
     ]
    }
   ],
   "source": [
    "precision = TP/(TP + FP)\n",
    "print(precision)"
   ]
  },
  {
   "cell_type": "code",
   "execution_count": 56,
   "id": "d09ca0ce-995c-4a6e-a10b-c0b7aed06d1b",
   "metadata": {},
   "outputs": [],
   "source": [
    "FN = df[(df['Выжил'] == 1) & (df['Прогноз'] == 0)]['Выжил'].sum()"
   ]
  },
  {
   "cell_type": "code",
   "execution_count": 59,
   "id": "bbe4dcf5-6553-41f4-813e-0978df2a35af",
   "metadata": {},
   "outputs": [
    {
     "name": "stdout",
     "output_type": "stream",
     "text": [
      "0.7134502923976608\n"
     ]
    }
   ],
   "source": [
    "recall = TP/(TP + FN)\n",
    "print(recall)"
   ]
  },
  {
   "cell_type": "code",
   "execution_count": 60,
   "id": "cb62afa0-c7b0-42a8-a096-9719eab4dec5",
   "metadata": {},
   "outputs": [
    {
     "name": "stdout",
     "output_type": "stream",
     "text": [
      "0.7360482654600301\n"
     ]
    }
   ],
   "source": [
    "F1 = 2 * ((precision * recall)/(precision + recall))\n",
    "print(F1)"
   ]
  }
 ],
 "metadata": {
  "kernelspec": {
   "display_name": "Python 3 (ipykernel)",
   "language": "python",
   "name": "python3"
  },
  "language_info": {
   "codemirror_mode": {
    "name": "ipython",
    "version": 3
   },
   "file_extension": ".py",
   "mimetype": "text/x-python",
   "name": "python",
   "nbconvert_exporter": "python",
   "pygments_lexer": "ipython3",
   "version": "3.12.1"
  }
 },
 "nbformat": 4,
 "nbformat_minor": 5
}

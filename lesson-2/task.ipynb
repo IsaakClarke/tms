{
 "cells": [
  {
   "cell_type": "code",
   "execution_count": 13,
   "id": "9a0021a9-5bc8-4b3b-a2ab-fcf90daea6b1",
   "metadata": {},
   "outputs": [
    {
     "name": "stdout",
     "output_type": "stream",
     "text": [
      "3.7230820101533415\n"
     ]
    }
   ],
   "source": [
    "import math\n",
    "\n",
    "def func(x):\n",
    "    return (\n",
    "        math.cos(math.e**x) +\n",
    "        math.log((1 + x)**2) +\n",
    "        math.sqrt(\n",
    "            math.e**math.cos(x) + math.sin(math.pi*x)**2\n",
    "        ) +\n",
    "        math.sqrt(1/x) +\n",
    "        math.cos(x**2)\n",
    "           )**math.sin(x)\n",
    "\n",
    "print(func(1.79))"
   ]
  },
  {
   "cell_type": "code",
   "execution_count": 41,
   "id": "624d570e-c636-484a-8f3a-9dd6870d7756",
   "metadata": {},
   "outputs": [
    {
     "name": "stdout",
     "output_type": "stream",
     "text": [
      "Есть контакт!\n"
     ]
    }
   ],
   "source": [
    "def search_substr(subst, st):\n",
    "    return \"Есть контакт!\" if st.lower() in subst.lower() else \"Мимо!\"\n",
    "    \n",
    "print(search_substr(\"HELLO WORLD!\", \"ello w\"))"
   ]
  },
  {
   "cell_type": "code",
   "execution_count": 73,
   "id": "e4e1a367-2707-472b-996a-f74bea13fdac",
   "metadata": {},
   "outputs": [
    {
     "name": "stdout",
     "output_type": "stream",
     "text": [
      "[('l', 3), ('e', 2), ('o', 2)]\n"
     ]
    }
   ],
   "source": [
    "from collections import Counter\n",
    "\n",
    "def cnt(st):    \n",
    "    return Counter(st.replace(\" \", \"\").lower()).most_common(3)\n",
    "\n",
    "print(cnt(\"HELLO WORLD! im spider man\"))"
   ]
  },
  {
   "cell_type": "code",
   "execution_count": 85,
   "id": "c589bfe6-9581-4638-9a97-d84e93f831d7",
   "metadata": {},
   "outputs": [
    {
     "name": "stdout",
     "output_type": "stream",
     "text": [
      "{1: 3, 2: 2, 5: 2}\n"
     ]
    }
   ],
   "source": [
    "from collections import Counter\n",
    "\n",
    "def count_it(seq):\n",
    "    return dict(Counter([int(ch) for ch in seq]).most_common(3))\n",
    "print(count_it(\"295687264751113\"))"
   ]
  },
  {
   "cell_type": "code",
   "execution_count": null,
   "id": "9d43a80f-e544-47a3-9462-2f0ad3bf934b",
   "metadata": {},
   "outputs": [],
   "source": []
  }
 ],
 "metadata": {
  "kernelspec": {
   "display_name": "Python 3 (ipykernel)",
   "language": "python",
   "name": "python3"
  },
  "language_info": {
   "codemirror_mode": {
    "name": "ipython",
    "version": 3
   },
   "file_extension": ".py",
   "mimetype": "text/x-python",
   "name": "python",
   "nbconvert_exporter": "python",
   "pygments_lexer": "ipython3",
   "version": "3.12.1"
  }
 },
 "nbformat": 4,
 "nbformat_minor": 5
}

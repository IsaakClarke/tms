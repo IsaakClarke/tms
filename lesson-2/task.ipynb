{
 "cells": [
  {
   "cell_type": "code",
   "execution_count": 13,
   "id": "9a0021a9-5bc8-4b3b-a2ab-fcf90daea6b1",
   "metadata": {
    "collapsed": true,
    "jupyter": {
     "outputs_hidden": true,
     "source_hidden": true
    }
   },
   "outputs": [
    {
     "name": "stdout",
     "output_type": "stream",
     "text": [
      "3.7230820101533415\n"
     ]
    }
   ],
   "source": [
    "import math\n",
    "\n",
    "def func(x):\n",
    "    return (\n",
    "        math.cos(math.e**x) +\n",
    "        math.log((1 + x)**2) +\n",
    "        math.sqrt(\n",
    "            math.e**math.cos(x) + math.sin(math.pi*x)**2\n",
    "        ) +\n",
    "        math.sqrt(1/x) +\n",
    "        math.cos(x**2)\n",
    "           )**math.sin(x)\n",
    "\n",
    "print(func(1.79))"
   ]
  },
  {
   "cell_type": "code",
   "execution_count": 41,
   "id": "624d570e-c636-484a-8f3a-9dd6870d7756",
   "metadata": {
    "collapsed": true,
    "jupyter": {
     "outputs_hidden": true,
     "source_hidden": true
    }
   },
   "outputs": [
    {
     "name": "stdout",
     "output_type": "stream",
     "text": [
      "Есть контакт!\n"
     ]
    }
   ],
   "source": [
    "def search_substr(subst, st):\n",
    "    return \"Есть контакт!\" if st.lower() in subst.lower() else \"Мимо!\"\n",
    "    \n",
    "print(search_substr(\"HELLO WORLD!\", \"ello w\"))"
   ]
  },
  {
   "cell_type": "code",
   "execution_count": 73,
   "id": "e4e1a367-2707-472b-996a-f74bea13fdac",
   "metadata": {
    "collapsed": true,
    "jupyter": {
     "outputs_hidden": true,
     "source_hidden": true
    }
   },
   "outputs": [
    {
     "name": "stdout",
     "output_type": "stream",
     "text": [
      "[('l', 3), ('e', 2), ('o', 2)]\n"
     ]
    }
   ],
   "source": [
    "from collections import Counter\n",
    "\n",
    "def cnt(st):    \n",
    "    return Counter(st.replace(\" \", \"\").lower()).most_common(3)\n",
    "\n",
    "print(cnt(\"HELLO WORLD! im spider man\"))"
   ]
  },
  {
   "cell_type": "code",
   "execution_count": 25,
   "id": "c589bfe6-9581-4638-9a97-d84e93f831d7",
   "metadata": {
    "collapsed": true,
    "jupyter": {
     "outputs_hidden": true,
     "source_hidden": true
    }
   },
   "outputs": [
    {
     "name": "stdout",
     "output_type": "stream",
     "text": [
      "{1: 3, 2: 2, 5: 2}\n"
     ]
    }
   ],
   "source": [
    "from collections import Counter\n",
    "\n",
    "def count_it(seq):\n",
    "    return dict(Counter([int(ch) for ch in seq]).most_common(3))\n",
    "print(count_it(\"295687264751113\"))"
   ]
  },
  {
   "cell_type": "code",
   "execution_count": 125,
   "id": "9d43a80f-e544-47a3-9462-2f0ad3bf934b",
   "metadata": {
    "collapsed": true,
    "jupyter": {
     "outputs_hidden": true,
     "source_hidden": true
    }
   },
   "outputs": [
    {
     "name": "stdout",
     "output_type": "stream",
     "text": [
      "['Опасно', 'Безопасно']\n"
     ]
    }
   ],
   "source": [
    "def th(type, a, b, c, d):\n",
    "    \n",
    "    lst = [(\"a\", a), (\"b\", b), (\"c\", c), (\"d\", d)]\n",
    "    \n",
    "    for name, x in lst:\n",
    "        if x < 1 or x > 8:\n",
    "            return f\"{name} = {x} за пределами доски\"\n",
    "        \n",
    "    if type == \"Ферзь\":\n",
    "        return \"Опасно\" if a == c or b == d or (abs(a - c) == abs(b - d)) else \"Безопасно\"\n",
    "    elif type == \"Конь\":\n",
    "        return \"Опасно\" if (abs(a - c), abs(b - d)) in [(1,2),(2,1)] else \"Безопасно\"\n",
    "\n",
    "_input = [(\"Ферзь\", 1, 5, 1, 8), (\"Конь\", 1, 5, 1, 8)]\n",
    "\n",
    "res = [th(type, a, b, c, d) for (type, a, b, c, d) in _input]\n",
    "\n",
    "print(res)"
   ]
  },
  {
   "cell_type": "code",
   "execution_count": 124,
   "id": "12ca2ffc-d82e-4def-9949-41ab6bd68324",
   "metadata": {
    "collapsed": true,
    "jupyter": {
     "outputs_hidden": true,
     "source_hidden": true
    }
   },
   "outputs": [
    {
     "name": "stdout",
     "output_type": "stream",
     "text": [
      "['Опасно после хода', 'Одинаковые координаты', 'Опасно до хода', 'Безопасно', 'b = 0 за пределами доски']\n"
     ]
    }
   ],
   "source": [
    "def th(a, b, c, d):\n",
    "    \n",
    "    lst = [(\"a\", a), (\"b\", b), (\"c\", c), (\"d\", d)]\n",
    "    \n",
    "    for name, x in lst:\n",
    "        if x < 1 or x > 8:\n",
    "            return f\"{name} = {x} за пределами доски\"\n",
    "\n",
    "    if (a, b) == (c, d):\n",
    "        return \"Одинаковые координаты\"\n",
    "\n",
    "    moves = [(+2,+1), (+2,-1), (-2,+1), (-2,-1), (+1,+2), (+1,-2), (-1,+2), (-1,-2)]\n",
    "\n",
    "    new_pos = [(a + dx, b + dy) for dx, dy in moves if 1 <= a + dx <= 8 and 1 <= b + dy <= 8]\n",
    "\n",
    "    now = (abs(a - c), abs(b - d)) in [(1,2),(2,1)]\n",
    "\n",
    "    after = any((abs(new_a - c), abs(new_b - d)) in [(1, 2), (2, 1)] for new_a, new_b in new_pos)\n",
    "\n",
    "    if now:\n",
    "        return \"Опасно до хода\"\n",
    "    elif after:\n",
    "        return \"Опасно после хода\"\n",
    "    else:\n",
    "        return \"Безопасно\"\n",
    "\n",
    "_input = [(1, 5, 2, 8), (8, 1, 8, 1), (4, 4, 6, 5), (1, 1, 8, 8), (1, 0, 8, 8)]\n",
    "\n",
    "res = [th(a, b, c, d) for (a, b, c, d) in _input]\n",
    "\n",
    "print(res)"
   ]
  }
 ],
 "metadata": {
  "kernelspec": {
   "display_name": "Python 3 (ipykernel)",
   "language": "python",
   "name": "python3"
  },
  "language_info": {
   "codemirror_mode": {
    "name": "ipython",
    "version": 3
   },
   "file_extension": ".py",
   "mimetype": "text/x-python",
   "name": "python",
   "nbconvert_exporter": "python",
   "pygments_lexer": "ipython3",
   "version": "3.12.1"
  }
 },
 "nbformat": 4,
 "nbformat_minor": 5
}

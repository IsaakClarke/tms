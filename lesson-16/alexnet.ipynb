{
 "cells": [
  {
   "cell_type": "code",
   "execution_count": 11,
   "id": "84e86799-0b17-4e04-b050-c430a4496fcf",
   "metadata": {},
   "outputs": [],
   "source": [
    "import kagglehub\n",
    "import os\n",
    "from PIL import Image\n",
    "import torch\n",
    "from torch.utils.data import Dataset, DataLoader\n",
    "import torchvision.transforms as transforms\n",
    "from tqdm import tqdm\n",
    "from torchvision.datasets import ImageFolder"
   ]
  },
  {
   "cell_type": "code",
   "execution_count": 3,
   "id": "c7df52a6-324b-448f-bd84-d606617b4111",
   "metadata": {},
   "outputs": [],
   "source": [
    "dataset_path = kagglehub.dataset_download('bhavikjikadara/dog-and-cat-classification-dataset')"
   ]
  },
  {
   "cell_type": "code",
   "execution_count": 4,
   "id": "5eef1e9b-631b-45c2-a9af-df6e704cae16",
   "metadata": {},
   "outputs": [],
   "source": [
    "directory = os.path.join(dataset_path, 'PetImages')"
   ]
  },
  {
   "cell_type": "code",
   "execution_count": 8,
   "id": "7430ccf6-a50c-44b7-9733-2ea7b7634c65",
   "metadata": {},
   "outputs": [],
   "source": [
    "IMAGE_SIZE = 224\n",
    "BATCH_SIZE = 64\n",
    "\n",
    "alexnet_transforms = transforms.Compose([\n",
    "    transforms.Resize((IMAGE_SIZE, IMAGE_SIZE)),\n",
    "    transforms.ToTensor(),\n",
    "    transforms.Normalize(mean=[0.485, 0.456, 0.406], std=[0.229, 0.224, 0.225])\n",
    "])"
   ]
  },
  {
   "cell_type": "code",
   "execution_count": 13,
   "id": "000ec4a4-d287-48bf-a5f1-386cd6bf3dc8",
   "metadata": {},
   "outputs": [],
   "source": [
    "full_dataset = ImageFolder(root=directory, transform=alexnet_transforms)"
   ]
  },
  {
   "cell_type": "code",
   "execution_count": 14,
   "id": "55602d0e-109d-4596-94eb-44d47e6f3e54",
   "metadata": {},
   "outputs": [],
   "source": [
    "train_size = int(0.8 * len(full_dataset))\n",
    "test_size = len(full_dataset) - train_size\n",
    "train_dataset, test_dataset = torch.utils.data.random_split(full_dataset, [train_size, test_size])"
   ]
  },
  {
   "cell_type": "code",
   "execution_count": 15,
   "id": "617ef532-b084-4d05-9985-0cb48192eed0",
   "metadata": {},
   "outputs": [],
   "source": [
    "train_loader = DataLoader(train_dataset, batch_size=BATCH_SIZE, shuffle=True, num_workers=4)\n",
    "test_loader = DataLoader(test_dataset, batch_size=BATCH_SIZE, shuffle=False, num_workers=4)"
   ]
  },
  {
   "cell_type": "code",
   "execution_count": 16,
   "id": "1cfb5880-1a83-4730-823c-4dfd36fc73c8",
   "metadata": {},
   "outputs": [],
   "source": [
    "import torch.nn as nn"
   ]
  },
  {
   "cell_type": "code",
   "execution_count": 18,
   "id": "9edf34d1-c788-46b0-87bb-cf1f7208efca",
   "metadata": {},
   "outputs": [
    {
     "name": "stdout",
     "output_type": "stream",
     "text": [
      "cuda\n"
     ]
    }
   ],
   "source": [
    "device = torch.device('cuda' if torch.cuda.is_available() else 'cpu')\n",
    "print(device)"
   ]
  },
  {
   "cell_type": "code",
   "execution_count": 19,
   "id": "c80e8d32-a976-4c7a-911a-3ea15511cd61",
   "metadata": {},
   "outputs": [],
   "source": [
    "features = nn.Sequential(\n",
    "    nn.Conv2d(3, 96, kernel_size=11, stride=4, padding=2),\n",
    "    nn.ReLU(inplace=True),\n",
    "    nn.LocalResponseNorm(size=5, alpha=0.0001, beta=0.75, k=2), \n",
    "    nn.MaxPool2d(kernel_size=3, stride=2),\n",
    "\n",
    "    nn.Conv2d(96, 256, kernel_size=5, padding=2),\n",
    "    nn.ReLU(inplace=True),\n",
    "    nn.LocalResponseNorm(size=5, alpha=0.0001, beta=0.75, k=2),\n",
    "    nn.MaxPool2d(kernel_size=3, stride=2),\n",
    "\n",
    "    nn.Conv2d(256, 384, kernel_size=3, padding=1),\n",
    "    nn.ReLU(inplace=True),\n",
    "\n",
    "    nn.Conv2d(384, 384, kernel_size=3, padding=1),\n",
    "    nn.ReLU(inplace=True),\n",
    "\n",
    "    nn.Conv2d(384, 256, kernel_size=3, padding=1),\n",
    "    nn.ReLU(inplace=True),\n",
    "    nn.MaxPool2d(kernel_size=3, stride=2),\n",
    ")\n",
    "\n",
    "FLATTEN_SIZE = 6 * 6 * 256 \n",
    "\n",
    "classifier = nn.Sequential(\n",
    "    nn.Dropout(p=0.5),\n",
    "    nn.Linear(FLATTEN_SIZE, 4096),\n",
    "    nn.ReLU(inplace=True),\n",
    "    \n",
    "    nn.Dropout(p=0.5),\n",
    "    nn.Linear(4096, 4096),\n",
    "    nn.ReLU(inplace=True),\n",
    "    \n",
    "    nn.Linear(4096, 2),\n",
    ")\n",
    "\n",
    "alexnet_model = nn.Sequential(\n",
    "    features,\n",
    "    nn.Flatten(),\n",
    "    classifier\n",
    ").to(device)"
   ]
  },
  {
   "cell_type": "code",
   "execution_count": 21,
   "id": "5fc0a30d-1ace-4802-9fa2-1a34d0134bcc",
   "metadata": {},
   "outputs": [],
   "source": [
    "import torch.optim as optim\n",
    "import time"
   ]
  },
  {
   "cell_type": "code",
   "execution_count": 23,
   "id": "bc905416-d374-44e1-b693-6d6973488e55",
   "metadata": {},
   "outputs": [],
   "source": [
    "def check_accuracy(loader, model, device):\n",
    "    \n",
    "    model.eval() \n",
    "    \n",
    "    num_correct = 0\n",
    "    num_samples = 0\n",
    "    \n",
    "    with torch.no_grad():\n",
    "        for x, y in loader:\n",
    "            x = x.to(device=device)\n",
    "            y = y.to(device=device)\n",
    "            \n",
    "            scores = model(x)\n",
    "            \n",
    "            _, predictions = scores.max(dim=1) \n",
    "            \n",
    "            num_correct += (predictions == y).sum().item()\n",
    "            num_samples += predictions.size(0)\n",
    "            \n",
    "    accuracy = (num_correct / num_samples) * 100\n",
    "    \n",
    "    model.train() \n",
    "    \n",
    "    return accuracy"
   ]
  },
  {
   "cell_type": "code",
   "execution_count": 25,
   "id": "a5151f5b-21bf-4de4-9506-d8afde19f4dc",
   "metadata": {},
   "outputs": [],
   "source": [
    "def train_epoch(model, loader, criterion, optimizer, device):\n",
    "    \n",
    "    model.train()\n",
    "    running_loss = 0.0\n",
    "    \n",
    "    loop = tqdm(loader, desc='Training', leave=True)\n",
    "    \n",
    "    for batch_idx, (data, targets) in enumerate(loop):\n",
    "        data = data.to(device)\n",
    "        targets = targets.to(device)\n",
    "        \n",
    "        scores = model(data)\n",
    "        loss = criterion(scores, targets)\n",
    "        \n",
    "        optimizer.zero_grad()\n",
    "        \n",
    "        loss.backward()\n",
    "        \n",
    "        optimizer.step()\n",
    "        \n",
    "        running_loss += loss.item()\n",
    "        \n",
    "        loop.set_postfix(loss=loss.item())\n",
    "\n",
    "    avg_loss = running_loss / len(loader)\n",
    "    return avg_loss"
   ]
  },
  {
   "cell_type": "code",
   "execution_count": 26,
   "id": "51db508c-c177-4e30-8ab6-eff5a734eb5f",
   "metadata": {},
   "outputs": [
    {
     "name": "stdout",
     "output_type": "stream",
     "text": [
      "pred train 50.44%\n",
      "\n",
      "\n",
      "--- epochs 10 ---\n",
      "\n",
      "--- epoch 1/10 ---\n"
     ]
    },
    {
     "name": "stderr",
     "output_type": "stream",
     "text": [
      "Training: 100%|██████████████████████████████████████████████████████████| 313/313 [01:24<00:00,  3.70it/s, loss=0.707]\n"
     ]
    },
    {
     "name": "stdout",
     "output_type": "stream",
     "text": [
      "avg loss per epoch: 0.6367\n",
      "accuracy on test: 71.92%\n",
      "\n",
      "--- epoch 2/10 ---\n"
     ]
    },
    {
     "name": "stderr",
     "output_type": "stream",
     "text": [
      "Training: 100%|██████████████████████████████████████████████████████████| 313/313 [01:17<00:00,  4.04it/s, loss=0.608]\n"
     ]
    },
    {
     "name": "stdout",
     "output_type": "stream",
     "text": [
      "avg loss per epoch: 0.5021\n",
      "accuracy on test: 80.44%\n",
      "\n",
      "--- epoch 3/10 ---\n"
     ]
    },
    {
     "name": "stderr",
     "output_type": "stream",
     "text": [
      "Training: 100%|██████████████████████████████████████████████████████████| 313/313 [01:17<00:00,  4.04it/s, loss=0.155]\n"
     ]
    },
    {
     "name": "stdout",
     "output_type": "stream",
     "text": [
      "avg loss per epoch: 0.3912\n",
      "accuracy on test: 78.74%\n",
      "\n",
      "--- epoch 4/10 ---\n"
     ]
    },
    {
     "name": "stderr",
     "output_type": "stream",
     "text": [
      "Training: 100%|██████████████████████████████████████████████████████████| 313/313 [01:17<00:00,  4.06it/s, loss=0.263]\n"
     ]
    },
    {
     "name": "stdout",
     "output_type": "stream",
     "text": [
      "avg loss per epoch: 0.3200\n",
      "accuracy on test: 86.74%\n",
      "\n",
      "--- epoch 5/10 ---\n"
     ]
    },
    {
     "name": "stderr",
     "output_type": "stream",
     "text": [
      "Training: 100%|██████████████████████████████████████████████████████████| 313/313 [01:17<00:00,  4.04it/s, loss=0.277]\n"
     ]
    },
    {
     "name": "stdout",
     "output_type": "stream",
     "text": [
      "avg loss per epoch: 0.2645\n",
      "accuracy on test: 87.14%\n",
      "\n",
      "--- epoch 6/10 ---\n"
     ]
    },
    {
     "name": "stderr",
     "output_type": "stream",
     "text": [
      "Training: 100%|██████████████████████████████████████████████████████████| 313/313 [01:17<00:00,  4.03it/s, loss=0.138]\n"
     ]
    },
    {
     "name": "stdout",
     "output_type": "stream",
     "text": [
      "avg loss per epoch: 0.2182\n",
      "accuracy on test: 88.94%\n",
      "\n",
      "--- epoch 7/10 ---\n"
     ]
    },
    {
     "name": "stderr",
     "output_type": "stream",
     "text": [
      "Training: 100%|██████████████████████████████████████████████████████████| 313/313 [01:17<00:00,  4.06it/s, loss=0.111]\n"
     ]
    },
    {
     "name": "stdout",
     "output_type": "stream",
     "text": [
      "avg loss per epoch: 0.1854\n",
      "accuracy on test: 89.26%\n",
      "\n",
      "--- epoch 8/10 ---\n"
     ]
    },
    {
     "name": "stderr",
     "output_type": "stream",
     "text": [
      "Training: 100%|██████████████████████████████████████████████████████████| 313/313 [01:17<00:00,  4.06it/s, loss=0.074]\n"
     ]
    },
    {
     "name": "stdout",
     "output_type": "stream",
     "text": [
      "avg loss per epoch: 0.1608\n",
      "accuracy on test: 89.98%\n",
      "\n",
      "--- epoch 9/10 ---\n"
     ]
    },
    {
     "name": "stderr",
     "output_type": "stream",
     "text": [
      "Training: 100%|█████████████████████████████████████████████████████████| 313/313 [01:17<00:00,  4.04it/s, loss=0.0568]\n"
     ]
    },
    {
     "name": "stdout",
     "output_type": "stream",
     "text": [
      "avg loss per epoch: 0.1330\n",
      "accuracy on test: 89.34%\n",
      "\n",
      "--- epoch 10/10 ---\n"
     ]
    },
    {
     "name": "stderr",
     "output_type": "stream",
     "text": [
      "Training: 100%|███████████████████████████████████████████████████████████| 313/313 [01:17<00:00,  4.05it/s, loss=0.12]\n"
     ]
    },
    {
     "name": "stdout",
     "output_type": "stream",
     "text": [
      "avg loss per epoch: 0.1113\n",
      "accuracy on test: 90.06%\n",
      "total train time 986.69 sec\n"
     ]
    }
   ],
   "source": [
    "LEARNING_RATE = 1e-4\n",
    "NUM_EPOCHS = 10 \n",
    "\n",
    "criterion = nn.CrossEntropyLoss()\n",
    "\n",
    "optimizer = optim.Adam(alexnet_model.parameters(), lr=LEARNING_RATE)\n",
    "\n",
    "test_accuracy_before = check_accuracy(test_loader, alexnet_model, device)\n",
    "print(f\"pred train {test_accuracy_before:.2f}%\")\n",
    "print(\"\\n\")\n",
    "\n",
    "print(f\"--- epochs {NUM_EPOCHS} ---\")\n",
    "\n",
    "start_time = time.time()\n",
    "\n",
    "for epoch in range(1, NUM_EPOCHS + 1):\n",
    "    print(f\"\\n--- epoch {epoch}/{NUM_EPOCHS} ---\")\n",
    "    \n",
    "    train_loss = train_epoch(\n",
    "        alexnet_model, \n",
    "        train_loader, \n",
    "        criterion, \n",
    "        optimizer, \n",
    "        device\n",
    "    )\n",
    "    \n",
    "    test_accuracy = check_accuracy(test_loader, alexnet_model, device)\n",
    "    \n",
    "    print(f\"avg loss per epoch: {train_loss:.4f}\")\n",
    "    print(f\"accuracy on test: {test_accuracy:.2f}%\")\n",
    "\n",
    "end_time = time.time()\n",
    "total_time = end_time - start_time\n",
    "\n",
    "print(f\"total train time {total_time:.2f} sec\")"
   ]
  },
  {
   "cell_type": "code",
   "execution_count": 28,
   "id": "d461a7a5-84fb-4014-98ae-2a0cdcda5e9c",
   "metadata": {},
   "outputs": [],
   "source": [
    "# Ну, я конечно большего ожидал от 60 млн параметров\n",
    "# но опять же, возможно я криворукий"
   ]
  },
  {
   "cell_type": "code",
   "execution_count": null,
   "id": "30a8a8df-5c73-41f3-a871-a680b39ced7f",
   "metadata": {},
   "outputs": [],
   "source": []
  }
 ],
 "metadata": {
  "kernelspec": {
   "display_name": "Python 3 (ipykernel)",
   "language": "python",
   "name": "python3"
  },
  "language_info": {
   "codemirror_mode": {
    "name": "ipython",
    "version": 3
   },
   "file_extension": ".py",
   "mimetype": "text/x-python",
   "name": "python",
   "nbconvert_exporter": "python",
   "pygments_lexer": "ipython3",
   "version": "3.12.1"
  }
 },
 "nbformat": 4,
 "nbformat_minor": 5
}

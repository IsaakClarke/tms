{
 "cells": [
  {
   "cell_type": "code",
   "execution_count": 1,
   "id": "b7b5f7a3-e7a8-42ad-be28-64dbf49ce42a",
   "metadata": {},
   "outputs": [],
   "source": [
    "import kagglehub\n",
    "dataset_path = kagglehub.dataset_download('bhavikjikadara/dog-and-cat-classification-dataset')"
   ]
  },
  {
   "cell_type": "code",
   "execution_count": 2,
   "id": "9f2a07bf-7d81-4d9c-961f-1e762cda101b",
   "metadata": {},
   "outputs": [],
   "source": [
    "import os\n",
    "directory = os.path.join(dataset_path, 'PetImages')"
   ]
  },
  {
   "cell_type": "code",
   "execution_count": 3,
   "id": "188a8296-8e5b-4a79-99e7-22000cc58c4d",
   "metadata": {},
   "outputs": [],
   "source": [
    "import shutil\n",
    "import random\n",
    "from PIL import Image"
   ]
  },
  {
   "cell_type": "code",
   "execution_count": 5,
   "id": "cfef48ce-2a7e-4ea4-8183-fa830b01e67f",
   "metadata": {},
   "outputs": [],
   "source": [
    "import torch\n",
    "import torch.nn as nn\n",
    "from torch.utils.data import Dataset, DataLoader\n",
    "import torchvision.transforms as transforms"
   ]
  },
  {
   "cell_type": "code",
   "execution_count": 7,
   "id": "5b71107c-1903-4b98-b40e-3dc14aeae03d",
   "metadata": {},
   "outputs": [],
   "source": [
    "IMAGE_SIZE = 32\n",
    "BATCH_SIZE = 64\n",
    "SEED = 42"
   ]
  },
  {
   "cell_type": "code",
   "execution_count": 8,
   "id": "a3f88d0b-71ca-406f-b25d-ae933c44dbd5",
   "metadata": {},
   "outputs": [
    {
     "data": {
      "text/plain": [
       "<torch._C.Generator at 0x24cf1717910>"
      ]
     },
     "execution_count": 8,
     "metadata": {},
     "output_type": "execute_result"
    }
   ],
   "source": [
    "random.seed(SEED)\n",
    "torch.manual_seed(SEED)"
   ]
  },
  {
   "cell_type": "code",
   "execution_count": 9,
   "id": "77ff0bd9-bc33-47ee-9e94-7394545c7a33",
   "metadata": {},
   "outputs": [],
   "source": [
    "transform = transforms.Compose([\n",
    "    transforms.Resize((IMAGE_SIZE, IMAGE_SIZE)),\n",
    "    transforms.ToTensor(),\n",
    "    transforms.Normalize(mean=[0.485, 0.456, 0.406], std=[0.229, 0.224, 0.225])\n",
    "])"
   ]
  },
  {
   "cell_type": "code",
   "execution_count": 10,
   "id": "c6e7d1a7-f40f-4ff9-bfe5-c262335eeceb",
   "metadata": {},
   "outputs": [],
   "source": [
    "from torchvision.datasets import ImageFolder"
   ]
  },
  {
   "cell_type": "code",
   "execution_count": 11,
   "id": "a662a9c6-8017-4e3d-aa81-01cc5293e4d4",
   "metadata": {},
   "outputs": [],
   "source": [
    "full_dataset = ImageFolder(root=directory, transform=transform)"
   ]
  },
  {
   "cell_type": "code",
   "execution_count": 12,
   "id": "44416664-2181-4779-9ac2-08272a666615",
   "metadata": {},
   "outputs": [
    {
     "name": "stdout",
     "output_type": "stream",
     "text": [
      "24998\n"
     ]
    }
   ],
   "source": [
    "print(len(full_dataset))"
   ]
  },
  {
   "cell_type": "code",
   "execution_count": 13,
   "id": "6d2df07e-7dd4-4d58-a0f0-c0d8836e1a91",
   "metadata": {},
   "outputs": [],
   "source": [
    "train_size = int(0.8 * len(full_dataset))\n",
    "test_size = len(full_dataset) - train_size\n",
    "\n",
    "train_dataset, test_dataset = torch.utils.data.random_split(\n",
    "    full_dataset, \n",
    "    [train_size, test_size], \n",
    "    generator=torch.Generator().manual_seed(SEED)\n",
    ")"
   ]
  },
  {
   "cell_type": "code",
   "execution_count": 14,
   "id": "0fbf307e-77a6-4acf-9951-f6e6d8625226",
   "metadata": {},
   "outputs": [
    {
     "name": "stdout",
     "output_type": "stream",
     "text": [
      "19998\n",
      "5000\n"
     ]
    }
   ],
   "source": [
    "print(len(train_dataset))\n",
    "print(len(test_dataset))"
   ]
  },
  {
   "cell_type": "code",
   "execution_count": 15,
   "id": "5fdea29b-82fb-4a9c-8000-d742423c0303",
   "metadata": {},
   "outputs": [],
   "source": [
    "train_loader = DataLoader(train_dataset, batch_size=BATCH_SIZE, shuffle=True, num_workers=4)\n",
    "test_loader = DataLoader(test_dataset, batch_size=BATCH_SIZE, shuffle=False, num_workers=4)"
   ]
  },
  {
   "cell_type": "code",
   "execution_count": 16,
   "id": "2e07f6ee-2de8-438d-abb8-424ac8bf6a0c",
   "metadata": {},
   "outputs": [
    {
     "name": "stdout",
     "output_type": "stream",
     "text": [
      "cuda\n"
     ]
    }
   ],
   "source": [
    "device = torch.device(\"cuda\" if torch.cuda.is_available() else \"cpu\")\n",
    "print(device)"
   ]
  },
  {
   "cell_type": "code",
   "execution_count": 17,
   "id": "01c5e4f4-9fca-49b4-916d-50aff70fa815",
   "metadata": {},
   "outputs": [
    {
     "data": {
      "text/plain": [
       "Sequential(\n",
       "  (0): Conv2d(3, 6, kernel_size=(5, 5), stride=(1, 1))\n",
       "  (1): ReLU()\n",
       "  (2): AvgPool2d(kernel_size=2, stride=2, padding=0)\n",
       "  (3): Conv2d(6, 16, kernel_size=(5, 5), stride=(1, 1))\n",
       "  (4): ReLU()\n",
       "  (5): AvgPool2d(kernel_size=2, stride=2, padding=0)\n",
       "  (6): Flatten(start_dim=1, end_dim=-1)\n",
       "  (7): Linear(in_features=400, out_features=120, bias=True)\n",
       "  (8): ReLU()\n",
       "  (9): Linear(in_features=120, out_features=84, bias=True)\n",
       "  (10): ReLU()\n",
       "  (11): Linear(in_features=84, out_features=2, bias=True)\n",
       ")"
      ]
     },
     "execution_count": 17,
     "metadata": {},
     "output_type": "execute_result"
    }
   ],
   "source": [
    "lenet5_model = nn.Sequential(\n",
    "    nn.Conv2d(in_channels=3, out_channels=6, kernel_size=5),\n",
    "    nn.ReLU(),\n",
    "    \n",
    "    nn.AvgPool2d(kernel_size=2, stride=2),\n",
    "    \n",
    "    nn.Conv2d(in_channels=6, out_channels=16, kernel_size=5),\n",
    "    nn.ReLU(),\n",
    "    \n",
    "    nn.AvgPool2d(kernel_size=2, stride=2),\n",
    "    \n",
    "    nn.Flatten(),\n",
    "    \n",
    "    nn.Linear(in_features=16 * 5 * 5, out_features=120),\n",
    "    nn.ReLU(),\n",
    "    \n",
    "    nn.Linear(in_features=120, out_features=84),\n",
    "    nn.ReLU(),\n",
    "    \n",
    "    nn.Linear(in_features=84, out_features=2) \n",
    ")\n",
    "\n",
    "lenet5_model.to(device)"
   ]
  },
  {
   "cell_type": "code",
   "execution_count": 18,
   "id": "aefc5e1f-9efc-466b-9822-a0e37d638986",
   "metadata": {},
   "outputs": [],
   "source": [
    "dummy_input = torch.randn(64, 3, 32, 32).to(device) \n",
    "output = lenet5_model(dummy_input)"
   ]
  },
  {
   "cell_type": "code",
   "execution_count": 19,
   "id": "51757e54-6a07-4fa2-aa3d-8f5f943838bf",
   "metadata": {},
   "outputs": [],
   "source": [
    "import torch.optim as optim"
   ]
  },
  {
   "cell_type": "code",
   "execution_count": 20,
   "id": "c39578b4-f069-4dca-894e-137cad061e58",
   "metadata": {},
   "outputs": [],
   "source": [
    "NUM_EPOCHS = 10\n",
    "LEARNING_RATE = 0.001"
   ]
  },
  {
   "cell_type": "code",
   "execution_count": 21,
   "id": "b3b0ce26-6814-4f92-8b86-9ccc12f543b9",
   "metadata": {},
   "outputs": [],
   "source": [
    "criterion = nn.CrossEntropyLoss()"
   ]
  },
  {
   "cell_type": "code",
   "execution_count": 22,
   "id": "d93f481d-ed8c-4731-953d-74995b5d951e",
   "metadata": {},
   "outputs": [],
   "source": [
    "optimizer = optim.Adam(lenet5_model.parameters(), lr=LEARNING_RATE)"
   ]
  },
  {
   "cell_type": "code",
   "execution_count": 23,
   "id": "b8b29da8-4ae4-4b10-b2fc-c99b4f41d719",
   "metadata": {},
   "outputs": [],
   "source": [
    "from tqdm import tqdm"
   ]
  },
  {
   "cell_type": "code",
   "execution_count": 24,
   "id": "402b51f8-e845-4879-9a21-bb8b2cfbf5c9",
   "metadata": {},
   "outputs": [],
   "source": [
    "def train_epoch(model, loader, criterion, optimizer, device):\n",
    "    \n",
    "    model.train()\n",
    "    running_loss = 0.0\n",
    "    \n",
    "    loop = tqdm(loader, desc='Training', leave=True)\n",
    "    \n",
    "    for batch_idx, (data, targets) in enumerate(loop):\n",
    "        data = data.to(device)\n",
    "        targets = targets.to(device)\n",
    "        \n",
    "        scores = model(data)\n",
    "        loss = criterion(scores, targets)\n",
    "        \n",
    "        optimizer.zero_grad()\n",
    "        \n",
    "        loss.backward()\n",
    "        \n",
    "        optimizer.step()\n",
    "        \n",
    "        running_loss += loss.item()\n",
    "        \n",
    "        loop.set_postfix(loss=loss.item())\n",
    "\n",
    "    avg_loss = running_loss / len(loader)\n",
    "    return avg_loss"
   ]
  },
  {
   "cell_type": "code",
   "execution_count": 25,
   "id": "837305f8-ae88-462d-bc25-b6ce83f12c68",
   "metadata": {},
   "outputs": [],
   "source": [
    "def check_accuracy(loader, model, device):\n",
    "    \n",
    "    model.eval() \n",
    "    \n",
    "    num_correct = 0\n",
    "    num_samples = 0\n",
    "    \n",
    "    with torch.no_grad():\n",
    "        for x, y in loader:\n",
    "            x = x.to(device=device)\n",
    "            y = y.to(device=device)\n",
    "            \n",
    "            scores = model(x)\n",
    "            \n",
    "            _, predictions = scores.max(dim=1) \n",
    "            \n",
    "            num_correct += (predictions == y).sum().item()\n",
    "            num_samples += predictions.size(0)\n",
    "            \n",
    "    accuracy = (num_correct / num_samples) * 100\n",
    "    \n",
    "    model.train() \n",
    "    \n",
    "    return accuracy"
   ]
  },
  {
   "cell_type": "code",
   "execution_count": 26,
   "id": "36b63bd2-2081-4ebb-b16a-2574984b5a5a",
   "metadata": {},
   "outputs": [],
   "source": [
    "import time"
   ]
  },
  {
   "cell_type": "code",
   "execution_count": 29,
   "id": "66592976-8023-418f-a2fd-7ba7450b9d71",
   "metadata": {},
   "outputs": [
    {
     "name": "stdout",
     "output_type": "stream",
     "text": [
      "pred train 75.34%\n",
      "\n",
      "\n",
      "--- epochs 10 ---\n",
      "\n",
      "--- epoch 1/10 ---\n"
     ]
    },
    {
     "name": "stderr",
     "output_type": "stream",
     "text": [
      "Training: 100%|██████████████████████████████████████████████████████████| 313/313 [00:24<00:00, 12.60it/s, loss=0.407]\n"
     ]
    },
    {
     "name": "stdout",
     "output_type": "stream",
     "text": [
      "avg loss per epoch: 0.3581\n",
      "accuracy on test: 73.52%\n",
      "\n",
      "--- epoch 2/10 ---\n"
     ]
    },
    {
     "name": "stderr",
     "output_type": "stream",
     "text": [
      "Training: 100%|██████████████████████████████████████████████████████████| 313/313 [00:24<00:00, 12.55it/s, loss=0.184]\n"
     ]
    },
    {
     "name": "stdout",
     "output_type": "stream",
     "text": [
      "avg loss per epoch: 0.3345\n",
      "accuracy on test: 73.98%\n",
      "\n",
      "--- epoch 3/10 ---\n"
     ]
    },
    {
     "name": "stderr",
     "output_type": "stream",
     "text": [
      "Training: 100%|██████████████████████████████████████████████████████████| 313/313 [00:25<00:00, 12.35it/s, loss=0.335]\n"
     ]
    },
    {
     "name": "stdout",
     "output_type": "stream",
     "text": [
      "avg loss per epoch: 0.2986\n",
      "accuracy on test: 73.42%\n",
      "\n",
      "--- epoch 4/10 ---\n"
     ]
    },
    {
     "name": "stderr",
     "output_type": "stream",
     "text": [
      "Training: 100%|███████████████████████████████████████████████████████████| 313/313 [00:24<00:00, 12.56it/s, loss=0.37]\n"
     ]
    },
    {
     "name": "stdout",
     "output_type": "stream",
     "text": [
      "avg loss per epoch: 0.2737\n",
      "accuracy on test: 72.72%\n",
      "\n",
      "--- epoch 5/10 ---\n"
     ]
    },
    {
     "name": "stderr",
     "output_type": "stream",
     "text": [
      "Training: 100%|██████████████████████████████████████████████████████████| 313/313 [00:24<00:00, 12.79it/s, loss=0.256]\n"
     ]
    },
    {
     "name": "stdout",
     "output_type": "stream",
     "text": [
      "avg loss per epoch: 0.2440\n",
      "accuracy on test: 73.50%\n",
      "\n",
      "--- epoch 6/10 ---\n"
     ]
    },
    {
     "name": "stderr",
     "output_type": "stream",
     "text": [
      "Training: 100%|██████████████████████████████████████████████████████████| 313/313 [00:24<00:00, 12.87it/s, loss=0.251]\n"
     ]
    },
    {
     "name": "stdout",
     "output_type": "stream",
     "text": [
      "avg loss per epoch: 0.2112\n",
      "accuracy on test: 72.96%\n",
      "\n",
      "--- epoch 7/10 ---\n"
     ]
    },
    {
     "name": "stderr",
     "output_type": "stream",
     "text": [
      "Training: 100%|█████████████████████████████████████████████████████████| 313/313 [00:24<00:00, 12.89it/s, loss=0.0932]\n"
     ]
    },
    {
     "name": "stdout",
     "output_type": "stream",
     "text": [
      "avg loss per epoch: 0.1760\n",
      "accuracy on test: 71.68%\n",
      "\n",
      "--- epoch 8/10 ---\n"
     ]
    },
    {
     "name": "stderr",
     "output_type": "stream",
     "text": [
      "Training: 100%|███████████████████████████████████████████████████████████| 313/313 [00:24<00:00, 12.73it/s, loss=0.21]\n"
     ]
    },
    {
     "name": "stdout",
     "output_type": "stream",
     "text": [
      "avg loss per epoch: 0.1550\n",
      "accuracy on test: 72.18%\n",
      "\n",
      "--- epoch 9/10 ---\n"
     ]
    },
    {
     "name": "stderr",
     "output_type": "stream",
     "text": [
      "Training: 100%|██████████████████████████████████████████████████████████| 313/313 [00:25<00:00, 12.45it/s, loss=0.141]\n"
     ]
    },
    {
     "name": "stdout",
     "output_type": "stream",
     "text": [
      "avg loss per epoch: 0.1338\n",
      "accuracy on test: 73.10%\n",
      "\n",
      "--- epoch 10/10 ---\n"
     ]
    },
    {
     "name": "stderr",
     "output_type": "stream",
     "text": [
      "Training: 100%|█████████████████████████████████████████████████████████| 313/313 [00:24<00:00, 12.62it/s, loss=0.0391]\n"
     ]
    },
    {
     "name": "stdout",
     "output_type": "stream",
     "text": [
      "avg loss per epoch: 0.1100\n",
      "accuracy on test: 72.32%\n",
      "total train time 429.54 sec\n"
     ]
    }
   ],
   "source": [
    "start_time = time.time()\n",
    "\n",
    "test_accuracy_before = check_accuracy(test_loader, lenet5_model, device)\n",
    "print(f\"pred train {test_accuracy_before:.2f}%\")\n",
    "print(\"\\n\")\n",
    "\n",
    "print(f\"--- epochs {NUM_EPOCHS} ---\")\n",
    "\n",
    "for epoch in range(1, NUM_EPOCHS + 1):\n",
    "    print(f\"\\n--- epoch {epoch}/{NUM_EPOCHS} ---\")\n",
    "    \n",
    "    train_loss = train_epoch(\n",
    "        lenet5_model, \n",
    "        train_loader, \n",
    "        criterion, \n",
    "        optimizer, \n",
    "        device\n",
    "    )\n",
    "    \n",
    "    test_accuracy = check_accuracy(test_loader, lenet5_model, device)\n",
    "    \n",
    "    print(f\"avg loss per epoch: {train_loss:.4f}\")\n",
    "    print(f\"accuracy on test: {test_accuracy:.2f}%\")\n",
    "\n",
    "end_time = time.time()\n",
    "total_time = end_time - start_time\n",
    "\n",
    "print(f\"total train time {total_time:.2f} sec\")"
   ]
  },
  {
   "cell_type": "code",
   "execution_count": 34,
   "id": "dbfebe20-00ed-44e8-9531-cf4900174493",
   "metadata": {},
   "outputs": [],
   "source": [
    "# Я делал 20 эпох, это вторая десятка\n",
    "# LeNet создан для мниста (ч/б картинки низкого разрешения), с rgb + hd/fullhd он не справляется\n",
    "# либо это я криворукий, что наиболее вероятно\n",
    "# но исходя из того, сколько примерно нужно сверточных слоев для hd/fullhd картинок и сколько надо fc слоев,\n",
    "# текущее архитектура не позволяет создать нужные нелинейные зависимости для увеличения точности бинарной классификации\n",
    "\n",
    "# и как я понял, чем меньше мы используем convolution, тем больше на выходе нам нужно fc\n",
    "\n",
    "# А, и да, вместо tanh/sigmoid как в оригинальном lenet5 я использовал relu, потому что там результаты вообще печальные"
   ]
  },
  {
   "cell_type": "code",
   "execution_count": null,
   "id": "f3b92aa6-d9aa-4436-aa76-a5a9a2bc1001",
   "metadata": {},
   "outputs": [],
   "source": []
  }
 ],
 "metadata": {
  "kernelspec": {
   "display_name": "Python 3 (ipykernel)",
   "language": "python",
   "name": "python3"
  },
  "language_info": {
   "codemirror_mode": {
    "name": "ipython",
    "version": 3
   },
   "file_extension": ".py",
   "mimetype": "text/x-python",
   "name": "python",
   "nbconvert_exporter": "python",
   "pygments_lexer": "ipython3",
   "version": "3.12.1"
  }
 },
 "nbformat": 4,
 "nbformat_minor": 5
}

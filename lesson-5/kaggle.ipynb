{
 "cells": [
  {
   "cell_type": "code",
   "execution_count": 1,
   "id": "bf04ae35-7d62-4469-b5df-4f032e9837ec",
   "metadata": {},
   "outputs": [],
   "source": [
    "# План\n",
    "\n",
    "# 1. Структура данных\n",
    "#     Изучение структуры датасета (количество строк и столбцов)\n",
    "#     Определение типов данных в каждом столбце (числовые, категориальные, временные)\n",
    "#     Анализ названий столбцов и их содержимого\n",
    "#     Понимание контекста данных и бизнес-цели анализа\n",
    "# 2. Очистка данных\n",
    "#     Выявление и анализ пропущенных значений\n",
    "#     Поиск и обработка дубликатов\n",
    "#     Проверка на наличие явных ошибок в данных\n",
    "#     Анализ несоответствий в форматах данных\n",
    "# 3. Анализ одномерных распределений\n",
    "#     Для числовых признаков:\n",
    "#     Среднее значение\n",
    "#     Медиана\n",
    "#     Мода\n",
    "#     Стандартное отклонение\n",
    "#     Квартили (Q1, Q2, Q3)\n",
    "#     Минимум и максимум\n",
    "#     Асимметрия\n",
    "#     Эксцесс\n",
    "#     Для категориальных признаков:\n",
    "#     Частота встречаемости каждого уникального значения\n",
    "#     Процентное соотношение категорий\n",
    "# 4. Анализ взаимосвязей между признаками\n",
    "#     Корреляционный анализ для числовых признаков:\n",
    "#     Коэффициент корреляции Пирсона\n",
    "#     Коэффициент ранговой корреляции Спирмена\n",
    "#     Для категориальных признаков:\n",
    "#     Кросс-таблицы и таблицы сопряженности\n",
    "#     Анализ распределения одной категории относительно другой\n",
    "#     Для смешанных типов данных:\n",
    "#     Анализ распределения числового признака по категориям\n",
    "# 5. Анализ целевой переменной\n",
    "#     Распределение целевой переменной\n",
    "#     Взаимосвязь целевой переменной с другими признаками\n",
    "#     Выявление потенциальных предикторов для модели\n",
    "# 6. Выявление аномалий и выбросов\n",
    "#     Анализ данных, которые значительно отличаются от остальных\n",
    "#     Определение, являются ли выбросы ошибками или важными наблюдениями\n",
    "#     Оценка влияния выбросов на дальнейший анализ\n",
    "# 7. Генерация гипотез\n",
    "#     Формулирование предположений о данных и их взаимосвязях\n",
    "#     Планирование дальнейшего анализа для проверки гипотез\n",
    "# 8. Подготовка к дальнейшему анализу\n",
    "#     Решение о необходимых преобразованиях данных\n",
    "#     Определение признаков, которые могут быть удалены или объединены\n",
    "#     Планирование этапов предобработки для последующего моделирования"
   ]
  },
  {
   "cell_type": "code",
   "execution_count": 2,
   "id": "69ae95d0-9c80-4b3f-b5a8-3bbbadaa6919",
   "metadata": {},
   "outputs": [],
   "source": [
    "# 1. Структура данных\n",
    "#     Изучение структуры датасета (количество строк и столбцов)\n",
    "#     Определение типов данных в каждом столбце (числовые, категориальные, временные)\n",
    "#     Анализ названий столбцов и их содержимого\n",
    "#     Понимание контекста данных и бизнес-цели анализа\n",
    "\n",
    "import pandas as pd\n",
    "\n",
    "df = pd.read_csv(\"C:\\\\Users\\\\ayzek\\\\.cache\\\\kagglehub\\\\datasets\\\\arunjangir245\\\\boston-housing-dataset\\\\versions\\\\2\\\\BostonHousing.csv\")"
   ]
  },
  {
   "cell_type": "code",
   "execution_count": 3,
   "id": "77761b67-b820-470f-98b3-b428ddbafaf8",
   "metadata": {},
   "outputs": [],
   "source": [
    "df = df.rename(columns = {\n",
    "    'crim':'преступность',\n",
    "    'zn':'доля_крупных_участков',\n",
    "    'indus':'доля_промзоны',\n",
    "    'chas':'у_реки',\n",
    "    'nox':'N20_конц',\n",
    "    'rm': 'avg_комнат',\n",
    "    'age': 'доля_стар_д',\n",
    "    'dis': 'расст_до_раб',\n",
    "    'rad': 'idx_доступ_к_магистр',\n",
    "    'tax': 'налог_на_недвиж',\n",
    "    'ptratio': 'ученик_на_учит',\n",
    "    'b': 'idx_b',\n",
    "    'lstat': 'доля_low_статуса',\n",
    "    'medv': 'цена_дома'\n",
    "})"
   ]
  },
  {
   "cell_type": "code",
   "execution_count": 4,
   "id": "bd3218ee-e77b-41da-96de-04fe680edabe",
   "metadata": {},
   "outputs": [
    {
     "name": "stdout",
     "output_type": "stream",
     "text": [
      "(506, 14)\n"
     ]
    }
   ],
   "source": [
    "print(df.shape)"
   ]
  },
  {
   "cell_type": "code",
   "execution_count": 5,
   "id": "688f5211-617f-495a-b294-d133c3fbca07",
   "metadata": {},
   "outputs": [
    {
     "name": "stdout",
     "output_type": "stream",
     "text": [
      "преступность             float64\n",
      "доля_крупных_участков    float64\n",
      "доля_промзоны            float64\n",
      "у_реки                     int64\n",
      "N20_конц                 float64\n",
      "avg_комнат               float64\n",
      "доля_стар_д              float64\n",
      "расст_до_раб             float64\n",
      "idx_доступ_к_магистр       int64\n",
      "налог_на_недвиж            int64\n",
      "ученик_на_учит           float64\n",
      "idx_b                    float64\n",
      "доля_low_статуса         float64\n",
      "цена_дома                float64\n",
      "dtype: object\n"
     ]
    }
   ],
   "source": [
    "print(df.dtypes)"
   ]
  },
  {
   "cell_type": "code",
   "execution_count": 6,
   "id": "cec779fb-2906-4aa0-ad2e-0980d5ea356a",
   "metadata": {},
   "outputs": [
    {
     "data": {
      "text/html": [
       "<div>\n",
       "<style scoped>\n",
       "    .dataframe tbody tr th:only-of-type {\n",
       "        vertical-align: middle;\n",
       "    }\n",
       "\n",
       "    .dataframe tbody tr th {\n",
       "        vertical-align: top;\n",
       "    }\n",
       "\n",
       "    .dataframe thead th {\n",
       "        text-align: right;\n",
       "    }\n",
       "</style>\n",
       "<table border=\"1\" class=\"dataframe\">\n",
       "  <thead>\n",
       "    <tr style=\"text-align: right;\">\n",
       "      <th></th>\n",
       "      <th>преступность</th>\n",
       "      <th>доля_крупных_участков</th>\n",
       "      <th>доля_промзоны</th>\n",
       "      <th>у_реки</th>\n",
       "      <th>N20_конц</th>\n",
       "      <th>avg_комнат</th>\n",
       "      <th>доля_стар_д</th>\n",
       "      <th>расст_до_раб</th>\n",
       "      <th>idx_доступ_к_магистр</th>\n",
       "      <th>налог_на_недвиж</th>\n",
       "      <th>ученик_на_учит</th>\n",
       "      <th>idx_b</th>\n",
       "      <th>доля_low_статуса</th>\n",
       "      <th>цена_дома</th>\n",
       "    </tr>\n",
       "  </thead>\n",
       "  <tbody>\n",
       "    <tr>\n",
       "      <th>0</th>\n",
       "      <td>0.00632</td>\n",
       "      <td>18.0</td>\n",
       "      <td>2.31</td>\n",
       "      <td>0</td>\n",
       "      <td>0.538</td>\n",
       "      <td>6.575</td>\n",
       "      <td>65.2</td>\n",
       "      <td>4.09</td>\n",
       "      <td>1</td>\n",
       "      <td>296</td>\n",
       "      <td>15.3</td>\n",
       "      <td>396.9</td>\n",
       "      <td>4.98</td>\n",
       "      <td>24.0</td>\n",
       "    </tr>\n",
       "  </tbody>\n",
       "</table>\n",
       "</div>"
      ],
      "text/plain": [
       "   преступность  доля_крупных_участков  доля_промзоны  у_реки  N20_конц  \\\n",
       "0       0.00632                   18.0           2.31       0     0.538   \n",
       "\n",
       "   avg_комнат  доля_стар_д  расст_до_раб  idx_доступ_к_магистр  \\\n",
       "0       6.575         65.2          4.09                     1   \n",
       "\n",
       "   налог_на_недвиж  ученик_на_учит  idx_b  доля_low_статуса  цена_дома  \n",
       "0              296            15.3  396.9              4.98       24.0  "
      ]
     },
     "execution_count": 6,
     "metadata": {},
     "output_type": "execute_result"
    }
   ],
   "source": [
    "df.head(1)"
   ]
  },
  {
   "cell_type": "code",
   "execution_count": 7,
   "id": "1dd7716f-42c6-4387-932a-507748babc1a",
   "metadata": {},
   "outputs": [
    {
     "data": {
      "text/html": [
       "<div>\n",
       "<style scoped>\n",
       "    .dataframe tbody tr th:only-of-type {\n",
       "        vertical-align: middle;\n",
       "    }\n",
       "\n",
       "    .dataframe tbody tr th {\n",
       "        vertical-align: top;\n",
       "    }\n",
       "\n",
       "    .dataframe thead th {\n",
       "        text-align: right;\n",
       "    }\n",
       "</style>\n",
       "<table border=\"1\" class=\"dataframe\">\n",
       "  <thead>\n",
       "    <tr style=\"text-align: right;\">\n",
       "      <th></th>\n",
       "      <th>преступность</th>\n",
       "      <th>доля_крупных_участков</th>\n",
       "      <th>доля_промзоны</th>\n",
       "      <th>у_реки</th>\n",
       "      <th>N20_конц</th>\n",
       "      <th>avg_комнат</th>\n",
       "      <th>доля_стар_д</th>\n",
       "      <th>расст_до_раб</th>\n",
       "      <th>idx_доступ_к_магистр</th>\n",
       "      <th>налог_на_недвиж</th>\n",
       "      <th>ученик_на_учит</th>\n",
       "      <th>idx_b</th>\n",
       "      <th>доля_low_статуса</th>\n",
       "      <th>цена_дома</th>\n",
       "    </tr>\n",
       "  </thead>\n",
       "  <tbody>\n",
       "    <tr>\n",
       "      <th>505</th>\n",
       "      <td>0.04741</td>\n",
       "      <td>0.0</td>\n",
       "      <td>11.93</td>\n",
       "      <td>0</td>\n",
       "      <td>0.573</td>\n",
       "      <td>6.03</td>\n",
       "      <td>80.8</td>\n",
       "      <td>2.505</td>\n",
       "      <td>1</td>\n",
       "      <td>273</td>\n",
       "      <td>21.0</td>\n",
       "      <td>396.9</td>\n",
       "      <td>7.88</td>\n",
       "      <td>11.9</td>\n",
       "    </tr>\n",
       "  </tbody>\n",
       "</table>\n",
       "</div>"
      ],
      "text/plain": [
       "     преступность  доля_крупных_участков  доля_промзоны  у_реки  N20_конц  \\\n",
       "505       0.04741                    0.0          11.93       0     0.573   \n",
       "\n",
       "     avg_комнат  доля_стар_д  расст_до_раб  idx_доступ_к_магистр  \\\n",
       "505        6.03         80.8         2.505                     1   \n",
       "\n",
       "     налог_на_недвиж  ученик_на_учит  idx_b  доля_low_статуса  цена_дома  \n",
       "505              273            21.0  396.9              7.88       11.9  "
      ]
     },
     "execution_count": 7,
     "metadata": {},
     "output_type": "execute_result"
    }
   ],
   "source": [
    "df.tail(1)"
   ]
  },
  {
   "cell_type": "code",
   "execution_count": 8,
   "id": "0e4eff0e-ce0f-421f-af1f-1f911fff464e",
   "metadata": {},
   "outputs": [
    {
     "name": "stdout",
     "output_type": "stream",
     "text": [
      "<class 'pandas.core.frame.DataFrame'>\n",
      "RangeIndex: 506 entries, 0 to 505\n",
      "Data columns (total 14 columns):\n",
      " #   Column                 Non-Null Count  Dtype  \n",
      "---  ------                 --------------  -----  \n",
      " 0   преступность           506 non-null    float64\n",
      " 1   доля_крупных_участков  506 non-null    float64\n",
      " 2   доля_промзоны          506 non-null    float64\n",
      " 3   у_реки                 506 non-null    int64  \n",
      " 4   N20_конц               506 non-null    float64\n",
      " 5   avg_комнат             501 non-null    float64\n",
      " 6   доля_стар_д            506 non-null    float64\n",
      " 7   расст_до_раб           506 non-null    float64\n",
      " 8   idx_доступ_к_магистр   506 non-null    int64  \n",
      " 9   налог_на_недвиж        506 non-null    int64  \n",
      " 10  ученик_на_учит         506 non-null    float64\n",
      " 11  idx_b                  506 non-null    float64\n",
      " 12  доля_low_статуса       506 non-null    float64\n",
      " 13  цена_дома              506 non-null    float64\n",
      "dtypes: float64(11), int64(3)\n",
      "memory usage: 55.5 KB\n"
     ]
    }
   ],
   "source": [
    "df.info()"
   ]
  },
  {
   "cell_type": "code",
   "execution_count": 9,
   "id": "86b06b74-068c-4c03-a511-24897b8863d3",
   "metadata": {},
   "outputs": [],
   "source": [
    "# 2. Очистка данных\n",
    "#     Выявление и анализ пропущенных значений\n",
    "#     Поиск и обработка дубликатов\n",
    "#     Проверка на наличие явных ошибок в данных\n",
    "#     Анализ несоответствий в форматах данных\n",
    "# Все столбцы non-null\n",
    "# Так как табла со значениями, убирать дубликаты нет смысла.\n",
    "# Ошибок нет\n",
    "# По формату ок"
   ]
  },
  {
   "cell_type": "code",
   "execution_count": 10,
   "id": "3c3f1188-5ffd-4abc-b976-24b6d4c46a06",
   "metadata": {},
   "outputs": [
    {
     "data": {
      "text/html": [
       "<div>\n",
       "<style scoped>\n",
       "    .dataframe tbody tr th:only-of-type {\n",
       "        vertical-align: middle;\n",
       "    }\n",
       "\n",
       "    .dataframe tbody tr th {\n",
       "        vertical-align: top;\n",
       "    }\n",
       "\n",
       "    .dataframe thead th {\n",
       "        text-align: right;\n",
       "    }\n",
       "</style>\n",
       "<table border=\"1\" class=\"dataframe\">\n",
       "  <thead>\n",
       "    <tr style=\"text-align: right;\">\n",
       "      <th></th>\n",
       "      <th>преступность</th>\n",
       "      <th>доля_крупных_участков</th>\n",
       "      <th>доля_промзоны</th>\n",
       "      <th>у_реки</th>\n",
       "      <th>N20_конц</th>\n",
       "      <th>avg_комнат</th>\n",
       "      <th>доля_стар_д</th>\n",
       "      <th>расст_до_раб</th>\n",
       "      <th>idx_доступ_к_магистр</th>\n",
       "      <th>налог_на_недвиж</th>\n",
       "      <th>ученик_на_учит</th>\n",
       "      <th>idx_b</th>\n",
       "      <th>доля_low_статуса</th>\n",
       "      <th>цена_дома</th>\n",
       "    </tr>\n",
       "  </thead>\n",
       "  <tbody>\n",
       "    <tr>\n",
       "      <th>count</th>\n",
       "      <td>506.000000</td>\n",
       "      <td>506.000000</td>\n",
       "      <td>506.000000</td>\n",
       "      <td>506.000000</td>\n",
       "      <td>506.000000</td>\n",
       "      <td>501.000000</td>\n",
       "      <td>506.000000</td>\n",
       "      <td>506.000000</td>\n",
       "      <td>506.000000</td>\n",
       "      <td>506.000000</td>\n",
       "      <td>506.000000</td>\n",
       "      <td>506.000000</td>\n",
       "      <td>506.000000</td>\n",
       "      <td>506.000000</td>\n",
       "    </tr>\n",
       "    <tr>\n",
       "      <th>mean</th>\n",
       "      <td>3.613524</td>\n",
       "      <td>11.363636</td>\n",
       "      <td>11.136779</td>\n",
       "      <td>0.069170</td>\n",
       "      <td>0.554695</td>\n",
       "      <td>6.284341</td>\n",
       "      <td>68.574901</td>\n",
       "      <td>3.795043</td>\n",
       "      <td>9.549407</td>\n",
       "      <td>408.237154</td>\n",
       "      <td>18.455534</td>\n",
       "      <td>356.674032</td>\n",
       "      <td>12.653063</td>\n",
       "      <td>22.532806</td>\n",
       "    </tr>\n",
       "    <tr>\n",
       "      <th>std</th>\n",
       "      <td>8.601545</td>\n",
       "      <td>23.322453</td>\n",
       "      <td>6.860353</td>\n",
       "      <td>0.253994</td>\n",
       "      <td>0.115878</td>\n",
       "      <td>0.705587</td>\n",
       "      <td>28.148861</td>\n",
       "      <td>2.105710</td>\n",
       "      <td>8.707259</td>\n",
       "      <td>168.537116</td>\n",
       "      <td>2.164946</td>\n",
       "      <td>91.294864</td>\n",
       "      <td>7.141062</td>\n",
       "      <td>9.197104</td>\n",
       "    </tr>\n",
       "    <tr>\n",
       "      <th>min</th>\n",
       "      <td>0.006320</td>\n",
       "      <td>0.000000</td>\n",
       "      <td>0.460000</td>\n",
       "      <td>0.000000</td>\n",
       "      <td>0.385000</td>\n",
       "      <td>3.561000</td>\n",
       "      <td>2.900000</td>\n",
       "      <td>1.129600</td>\n",
       "      <td>1.000000</td>\n",
       "      <td>187.000000</td>\n",
       "      <td>12.600000</td>\n",
       "      <td>0.320000</td>\n",
       "      <td>1.730000</td>\n",
       "      <td>5.000000</td>\n",
       "    </tr>\n",
       "    <tr>\n",
       "      <th>25%</th>\n",
       "      <td>0.082045</td>\n",
       "      <td>0.000000</td>\n",
       "      <td>5.190000</td>\n",
       "      <td>0.000000</td>\n",
       "      <td>0.449000</td>\n",
       "      <td>5.884000</td>\n",
       "      <td>45.025000</td>\n",
       "      <td>2.100175</td>\n",
       "      <td>4.000000</td>\n",
       "      <td>279.000000</td>\n",
       "      <td>17.400000</td>\n",
       "      <td>375.377500</td>\n",
       "      <td>6.950000</td>\n",
       "      <td>17.025000</td>\n",
       "    </tr>\n",
       "    <tr>\n",
       "      <th>50%</th>\n",
       "      <td>0.256510</td>\n",
       "      <td>0.000000</td>\n",
       "      <td>9.690000</td>\n",
       "      <td>0.000000</td>\n",
       "      <td>0.538000</td>\n",
       "      <td>6.208000</td>\n",
       "      <td>77.500000</td>\n",
       "      <td>3.207450</td>\n",
       "      <td>5.000000</td>\n",
       "      <td>330.000000</td>\n",
       "      <td>19.050000</td>\n",
       "      <td>391.440000</td>\n",
       "      <td>11.360000</td>\n",
       "      <td>21.200000</td>\n",
       "    </tr>\n",
       "    <tr>\n",
       "      <th>75%</th>\n",
       "      <td>3.677083</td>\n",
       "      <td>12.500000</td>\n",
       "      <td>18.100000</td>\n",
       "      <td>0.000000</td>\n",
       "      <td>0.624000</td>\n",
       "      <td>6.625000</td>\n",
       "      <td>94.075000</td>\n",
       "      <td>5.188425</td>\n",
       "      <td>24.000000</td>\n",
       "      <td>666.000000</td>\n",
       "      <td>20.200000</td>\n",
       "      <td>396.225000</td>\n",
       "      <td>16.955000</td>\n",
       "      <td>25.000000</td>\n",
       "    </tr>\n",
       "    <tr>\n",
       "      <th>max</th>\n",
       "      <td>88.976200</td>\n",
       "      <td>100.000000</td>\n",
       "      <td>27.740000</td>\n",
       "      <td>1.000000</td>\n",
       "      <td>0.871000</td>\n",
       "      <td>8.780000</td>\n",
       "      <td>100.000000</td>\n",
       "      <td>12.126500</td>\n",
       "      <td>24.000000</td>\n",
       "      <td>711.000000</td>\n",
       "      <td>22.000000</td>\n",
       "      <td>396.900000</td>\n",
       "      <td>37.970000</td>\n",
       "      <td>50.000000</td>\n",
       "    </tr>\n",
       "  </tbody>\n",
       "</table>\n",
       "</div>"
      ],
      "text/plain": [
       "       преступность  доля_крупных_участков  доля_промзоны      у_реки  \\\n",
       "count    506.000000             506.000000     506.000000  506.000000   \n",
       "mean       3.613524              11.363636      11.136779    0.069170   \n",
       "std        8.601545              23.322453       6.860353    0.253994   \n",
       "min        0.006320               0.000000       0.460000    0.000000   \n",
       "25%        0.082045               0.000000       5.190000    0.000000   \n",
       "50%        0.256510               0.000000       9.690000    0.000000   \n",
       "75%        3.677083              12.500000      18.100000    0.000000   \n",
       "max       88.976200             100.000000      27.740000    1.000000   \n",
       "\n",
       "         N20_конц  avg_комнат  доля_стар_д  расст_до_раб  \\\n",
       "count  506.000000  501.000000   506.000000    506.000000   \n",
       "mean     0.554695    6.284341    68.574901      3.795043   \n",
       "std      0.115878    0.705587    28.148861      2.105710   \n",
       "min      0.385000    3.561000     2.900000      1.129600   \n",
       "25%      0.449000    5.884000    45.025000      2.100175   \n",
       "50%      0.538000    6.208000    77.500000      3.207450   \n",
       "75%      0.624000    6.625000    94.075000      5.188425   \n",
       "max      0.871000    8.780000   100.000000     12.126500   \n",
       "\n",
       "       idx_доступ_к_магистр  налог_на_недвиж  ученик_на_учит       idx_b  \\\n",
       "count            506.000000       506.000000      506.000000  506.000000   \n",
       "mean               9.549407       408.237154       18.455534  356.674032   \n",
       "std                8.707259       168.537116        2.164946   91.294864   \n",
       "min                1.000000       187.000000       12.600000    0.320000   \n",
       "25%                4.000000       279.000000       17.400000  375.377500   \n",
       "50%                5.000000       330.000000       19.050000  391.440000   \n",
       "75%               24.000000       666.000000       20.200000  396.225000   \n",
       "max               24.000000       711.000000       22.000000  396.900000   \n",
       "\n",
       "       доля_low_статуса   цена_дома  \n",
       "count        506.000000  506.000000  \n",
       "mean          12.653063   22.532806  \n",
       "std            7.141062    9.197104  \n",
       "min            1.730000    5.000000  \n",
       "25%            6.950000   17.025000  \n",
       "50%           11.360000   21.200000  \n",
       "75%           16.955000   25.000000  \n",
       "max           37.970000   50.000000  "
      ]
     },
     "execution_count": 10,
     "metadata": {},
     "output_type": "execute_result"
    }
   ],
   "source": [
    "# 3. Анализ одномерных распределений\n",
    "#     Для числовых признаков:\n",
    "#     Среднее значение\n",
    "#     Медиана\n",
    "#     Мода\n",
    "#     Стандартное отклонение\n",
    "#     Квартили (Q1, Q2, Q3)\n",
    "#     Минимум и максимум\n",
    "#     Асимметрия\n",
    "\n",
    "df.describe()"
   ]
  },
  {
   "cell_type": "code",
   "execution_count": 11,
   "id": "0468c22d-f8ee-4415-bd2c-009c7b6ff21b",
   "metadata": {},
   "outputs": [
    {
     "data": {
      "text/plain": [
       "преступность               0.25651\n",
       "доля_крупных_участков      0.00000\n",
       "доля_промзоны              9.69000\n",
       "у_реки                     0.00000\n",
       "N20_конц                   0.53800\n",
       "avg_комнат                 6.20800\n",
       "доля_стар_д               77.50000\n",
       "расст_до_раб               3.20745\n",
       "idx_доступ_к_магистр       5.00000\n",
       "налог_на_недвиж          330.00000\n",
       "ученик_на_учит            19.05000\n",
       "idx_b                    391.44000\n",
       "доля_low_статуса          11.36000\n",
       "цена_дома                 21.20000\n",
       "dtype: float64"
      ]
     },
     "execution_count": 11,
     "metadata": {},
     "output_type": "execute_result"
    }
   ],
   "source": [
    "df.median()"
   ]
  },
  {
   "cell_type": "code",
   "execution_count": 12,
   "id": "58c79f17-9fea-4217-a0eb-f518bf57884d",
   "metadata": {},
   "outputs": [
    {
     "data": {
      "text/html": [
       "<div>\n",
       "<style scoped>\n",
       "    .dataframe tbody tr th:only-of-type {\n",
       "        vertical-align: middle;\n",
       "    }\n",
       "\n",
       "    .dataframe tbody tr th {\n",
       "        vertical-align: top;\n",
       "    }\n",
       "\n",
       "    .dataframe thead th {\n",
       "        text-align: right;\n",
       "    }\n",
       "</style>\n",
       "<table border=\"1\" class=\"dataframe\">\n",
       "  <thead>\n",
       "    <tr style=\"text-align: right;\">\n",
       "      <th></th>\n",
       "      <th>преступность</th>\n",
       "      <th>доля_крупных_участков</th>\n",
       "      <th>доля_промзоны</th>\n",
       "      <th>у_реки</th>\n",
       "      <th>N20_конц</th>\n",
       "      <th>avg_комнат</th>\n",
       "      <th>доля_стар_д</th>\n",
       "      <th>расст_до_раб</th>\n",
       "      <th>idx_доступ_к_магистр</th>\n",
       "      <th>налог_на_недвиж</th>\n",
       "      <th>ученик_на_учит</th>\n",
       "      <th>idx_b</th>\n",
       "      <th>доля_low_статуса</th>\n",
       "      <th>цена_дома</th>\n",
       "    </tr>\n",
       "  </thead>\n",
       "  <tbody>\n",
       "    <tr>\n",
       "      <th>0</th>\n",
       "      <td>0.01501</td>\n",
       "      <td>0.0</td>\n",
       "      <td>18.1</td>\n",
       "      <td>0.0</td>\n",
       "      <td>0.538</td>\n",
       "      <td>5.713</td>\n",
       "      <td>100.0</td>\n",
       "      <td>3.4952</td>\n",
       "      <td>24.0</td>\n",
       "      <td>666.0</td>\n",
       "      <td>20.2</td>\n",
       "      <td>396.9</td>\n",
       "      <td>6.36</td>\n",
       "      <td>50.0</td>\n",
       "    </tr>\n",
       "    <tr>\n",
       "      <th>1</th>\n",
       "      <td>14.3337</td>\n",
       "      <td></td>\n",
       "      <td></td>\n",
       "      <td></td>\n",
       "      <td></td>\n",
       "      <td>6.127</td>\n",
       "      <td></td>\n",
       "      <td></td>\n",
       "      <td></td>\n",
       "      <td></td>\n",
       "      <td></td>\n",
       "      <td></td>\n",
       "      <td>7.79</td>\n",
       "      <td></td>\n",
       "    </tr>\n",
       "    <tr>\n",
       "      <th>2</th>\n",
       "      <td></td>\n",
       "      <td></td>\n",
       "      <td></td>\n",
       "      <td></td>\n",
       "      <td></td>\n",
       "      <td>6.167</td>\n",
       "      <td></td>\n",
       "      <td></td>\n",
       "      <td></td>\n",
       "      <td></td>\n",
       "      <td></td>\n",
       "      <td></td>\n",
       "      <td>8.05</td>\n",
       "      <td></td>\n",
       "    </tr>\n",
       "    <tr>\n",
       "      <th>3</th>\n",
       "      <td></td>\n",
       "      <td></td>\n",
       "      <td></td>\n",
       "      <td></td>\n",
       "      <td></td>\n",
       "      <td>6.229</td>\n",
       "      <td></td>\n",
       "      <td></td>\n",
       "      <td></td>\n",
       "      <td></td>\n",
       "      <td></td>\n",
       "      <td></td>\n",
       "      <td>14.1</td>\n",
       "      <td></td>\n",
       "    </tr>\n",
       "    <tr>\n",
       "      <th>4</th>\n",
       "      <td></td>\n",
       "      <td></td>\n",
       "      <td></td>\n",
       "      <td></td>\n",
       "      <td></td>\n",
       "      <td>6.405</td>\n",
       "      <td></td>\n",
       "      <td></td>\n",
       "      <td></td>\n",
       "      <td></td>\n",
       "      <td></td>\n",
       "      <td></td>\n",
       "      <td>18.13</td>\n",
       "      <td></td>\n",
       "    </tr>\n",
       "    <tr>\n",
       "      <th>5</th>\n",
       "      <td></td>\n",
       "      <td></td>\n",
       "      <td></td>\n",
       "      <td></td>\n",
       "      <td></td>\n",
       "      <td>6.417</td>\n",
       "      <td></td>\n",
       "      <td></td>\n",
       "      <td></td>\n",
       "      <td></td>\n",
       "      <td></td>\n",
       "      <td></td>\n",
       "      <td></td>\n",
       "      <td></td>\n",
       "    </tr>\n",
       "  </tbody>\n",
       "</table>\n",
       "</div>"
      ],
      "text/plain": [
       "  преступность доля_крупных_участков доля_промзоны у_реки N20_конц  \\\n",
       "0      0.01501                   0.0          18.1    0.0    0.538   \n",
       "1      14.3337                                                       \n",
       "2                                                                    \n",
       "3                                                                    \n",
       "4                                                                    \n",
       "5                                                                    \n",
       "\n",
       "   avg_комнат доля_стар_д расст_до_раб idx_доступ_к_магистр налог_на_недвиж  \\\n",
       "0       5.713       100.0       3.4952                 24.0           666.0   \n",
       "1       6.127                                                                 \n",
       "2       6.167                                                                 \n",
       "3       6.229                                                                 \n",
       "4       6.405                                                                 \n",
       "5       6.417                                                                 \n",
       "\n",
       "  ученик_на_учит  idx_b доля_low_статуса цена_дома  \n",
       "0           20.2  396.9             6.36      50.0  \n",
       "1                                   7.79            \n",
       "2                                   8.05            \n",
       "3                                   14.1            \n",
       "4                                  18.13            \n",
       "5                                                   "
      ]
     },
     "execution_count": 12,
     "metadata": {},
     "output_type": "execute_result"
    }
   ],
   "source": [
    "df.mode().fillna(\"\")"
   ]
  },
  {
   "cell_type": "code",
   "execution_count": 13,
   "id": "53c08fc5-fffb-46ec-ac9e-96a025dc0ad9",
   "metadata": {},
   "outputs": [
    {
     "data": {
      "text/plain": [
       "преступность             5.223149\n",
       "доля_крупных_участков    2.225666\n",
       "доля_промзоны            0.295022\n",
       "у_реки                   3.405904\n",
       "N20_конц                 0.729308\n",
       "avg_комнат               0.403422\n",
       "доля_стар_д             -0.598963\n",
       "расст_до_раб             1.011781\n",
       "idx_доступ_к_магистр     1.004815\n",
       "налог_на_недвиж          0.669956\n",
       "ученик_на_учит          -0.802325\n",
       "idx_b                   -2.890374\n",
       "доля_low_статуса         0.906460\n",
       "цена_дома                1.108098\n",
       "dtype: float64"
      ]
     },
     "execution_count": 13,
     "metadata": {},
     "output_type": "execute_result"
    }
   ],
   "source": [
    "# коэффициент асимметрии Фишера\n",
    "df.skew()"
   ]
  },
  {
   "cell_type": "code",
   "execution_count": 24,
   "id": "b28ab4bf-5419-4b2d-87c4-9bf4fad21aac",
   "metadata": {},
   "outputs": [
    {
     "data": {
      "text/plain": [
       "<Axes: >"
      ]
     },
     "execution_count": 24,
     "metadata": {},
     "output_type": "execute_result"
    },
    {
     "data": {
      "image/png": "[encoded data removed]",
      "text/plain": [
       "<Figure size 1500x600 with 1 Axes>"
      ]
     },
     "metadata": {},
     "output_type": "display_data"
    }
   ],
   "source": [
    "df.boxplot(figsize=(15, 6), rot=90)"
   ]
  },
  {
   "cell_type": "code",
   "execution_count": 27,
   "id": "f7ca7e09-d7c1-4d2d-9edc-97024b86de69",
   "metadata": {},
   "outputs": [
    {
     "data": {
      "text/plain": [
       "<Axes: xlabel='цена_дома', ylabel='преступность'>"
      ]
     },
     "execution_count": 27,
     "metadata": {},
     "output_type": "execute_result"
    },
    {
     "data": {
      "image/png": "[encoded data removed]",
      "text/plain": [
       "<Figure size 640x480 with 1 Axes>"
      ]
     },
     "metadata": {},
     "output_type": "display_data"
    }
   ],
   "source": [
    "df.plot.scatter(y = 'преступность', x = 'цена_дома')"
   ]
  },
  {
   "cell_type": "code",
   "execution_count": 31,
   "id": "eec6df24-2589-4eb7-b313-07b89323de75",
   "metadata": {},
   "outputs": [
    {
     "data": {
      "text/plain": [
       "<Axes: xlabel='преступность', ylabel='idx_b'>"
      ]
     },
     "execution_count": 31,
     "metadata": {},
     "output_type": "execute_result"
    },
    {
     "data": {
      "image/png": "[encoded data removed]",
      "text/plain": [
       "<Figure size 640x480 with 1 Axes>"
      ]
     },
     "metadata": {},
     "output_type": "display_data"
    }
   ],
   "source": [
    "df.plot.scatter(x = 'преступность', y = 'idx_b')"
   ]
  },
  {
   "cell_type": "code",
   "execution_count": 30,
   "id": "8c060e50-3691-4937-aeca-bcdb55df8820",
   "metadata": {},
   "outputs": [
    {
     "data": {
      "text/plain": [
       "<Axes: xlabel='цена_дома', ylabel='idx_b'>"
      ]
     },
     "execution_count": 30,
     "metadata": {},
     "output_type": "execute_result"
    },
    {
     "data": {
      "image/png": "[encoded data removed]",
      "text/plain": [
       "<Figure size 640x480 with 1 Axes>"
      ]
     },
     "metadata": {},
     "output_type": "display_data"
    }
   ],
   "source": [
    "df.plot.scatter(x = 'цена_дома', y = 'idx_b')"
   ]
  },
  {
   "cell_type": "code",
   "execution_count": 37,
   "id": "da694236-4a76-4b4d-9a97-cad7f9ec5e7f",
   "metadata": {},
   "outputs": [
    {
     "data": {
      "text/plain": [
       "<Axes: >"
      ]
     },
     "execution_count": 37,
     "metadata": {},
     "output_type": "execute_result"
    },
    {
     "data": {
      "image/png": "[encoded data removed]",
      "text/plain": [
       "<Figure size 640x480 with 1 Axes>"
      ]
     },
     "metadata": {},
     "output_type": "display_data"
    }
   ],
   "source": [
    "df['ученик_на_учит'].hist()"
   ]
  },
  {
   "cell_type": "code",
   "execution_count": 40,
   "id": "fc9257ad-c990-470c-b2b4-1acecece3a45",
   "metadata": {},
   "outputs": [
    {
     "data": {
      "text/html": [
       "<div>\n",
       "<style scoped>\n",
       "    .dataframe tbody tr th:only-of-type {\n",
       "        vertical-align: middle;\n",
       "    }\n",
       "\n",
       "    .dataframe tbody tr th {\n",
       "        vertical-align: top;\n",
       "    }\n",
       "\n",
       "    .dataframe thead th {\n",
       "        text-align: right;\n",
       "    }\n",
       "</style>\n",
       "<table border=\"1\" class=\"dataframe\">\n",
       "  <thead>\n",
       "    <tr style=\"text-align: right;\">\n",
       "      <th></th>\n",
       "      <th>idx_b</th>\n",
       "      <th>преступность</th>\n",
       "      <th>цена_дома</th>\n",
       "      <th>налог_на_недвиж</th>\n",
       "      <th>доля_low_статуса</th>\n",
       "    </tr>\n",
       "  </thead>\n",
       "  <tbody>\n",
       "    <tr>\n",
       "      <th>idx_b</th>\n",
       "      <td>1.000000</td>\n",
       "      <td>-0.385064</td>\n",
       "      <td>0.333461</td>\n",
       "      <td>-0.441808</td>\n",
       "      <td>-0.366087</td>\n",
       "    </tr>\n",
       "    <tr>\n",
       "      <th>преступность</th>\n",
       "      <td>-0.385064</td>\n",
       "      <td>1.000000</td>\n",
       "      <td>-0.388305</td>\n",
       "      <td>0.582764</td>\n",
       "      <td>0.455621</td>\n",
       "    </tr>\n",
       "    <tr>\n",
       "      <th>цена_дома</th>\n",
       "      <td>0.333461</td>\n",
       "      <td>-0.388305</td>\n",
       "      <td>1.000000</td>\n",
       "      <td>-0.468536</td>\n",
       "      <td>-0.737663</td>\n",
       "    </tr>\n",
       "    <tr>\n",
       "      <th>налог_на_недвиж</th>\n",
       "      <td>-0.441808</td>\n",
       "      <td>0.582764</td>\n",
       "      <td>-0.468536</td>\n",
       "      <td>1.000000</td>\n",
       "      <td>0.543993</td>\n",
       "    </tr>\n",
       "    <tr>\n",
       "      <th>доля_low_статуса</th>\n",
       "      <td>-0.366087</td>\n",
       "      <td>0.455621</td>\n",
       "      <td>-0.737663</td>\n",
       "      <td>0.543993</td>\n",
       "      <td>1.000000</td>\n",
       "    </tr>\n",
       "  </tbody>\n",
       "</table>\n",
       "</div>"
      ],
      "text/plain": [
       "                     idx_b  преступность  цена_дома  налог_на_недвиж  \\\n",
       "idx_b             1.000000     -0.385064   0.333461        -0.441808   \n",
       "преступность     -0.385064      1.000000  -0.388305         0.582764   \n",
       "цена_дома         0.333461     -0.388305   1.000000        -0.468536   \n",
       "налог_на_недвиж  -0.441808      0.582764  -0.468536         1.000000   \n",
       "доля_low_статуса -0.366087      0.455621  -0.737663         0.543993   \n",
       "\n",
       "                  доля_low_статуса  \n",
       "idx_b                    -0.366087  \n",
       "преступность              0.455621  \n",
       "цена_дома                -0.737663  \n",
       "налог_на_недвиж           0.543993  \n",
       "доля_low_статуса          1.000000  "
      ]
     },
     "execution_count": 40,
     "metadata": {},
     "output_type": "execute_result"
    }
   ],
   "source": [
    "df[['idx_b', 'преступность', 'цена_дома', 'налог_на_недвиж', 'доля_low_статуса']].corr()"
   ]
  },
  {
   "cell_type": "code",
   "execution_count": null,
   "id": "5e031c6c-db32-4226-bfa9-37789f6459f6",
   "metadata": {},
   "outputs": [],
   "source": []
  }
 ],
 "metadata": {
  "kernelspec": {
   "display_name": "Python 3 (ipykernel)",
   "language": "python",
   "name": "python3"
  },
  "language_info": {
   "codemirror_mode": {
    "name": "ipython",
    "version": 3
   },
   "file_extension": ".py",
   "mimetype": "text/x-python",
   "name": "python",
   "nbconvert_exporter": "python",
   "pygments_lexer": "ipython3",
   "version": "3.12.1"
  }
 },
 "nbformat": 4,
 "nbformat_minor": 5
}

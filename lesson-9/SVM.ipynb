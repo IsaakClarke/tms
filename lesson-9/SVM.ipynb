{
 "cells": [
  {
   "cell_type": "code",
   "execution_count": 17,
   "id": "00229af6-7377-4044-98cd-792b4f5aeb24",
   "metadata": {},
   "outputs": [],
   "source": [
    "import os\n",
    "from dotenv import load_dotenv\n",
    "import pandas as pd\n",
    "\n",
    "load_dotenv(\"../.env\")\n",
    "\n",
    "url = os.getenv(\"LOCAL_LESSON6_DS\")\n",
    "\n",
    "df = pd.read_csv(url)"
   ]
  },
  {
   "cell_type": "code",
   "execution_count": 18,
   "id": "cf808e3c-a52c-4e45-95c9-723436e6277c",
   "metadata": {},
   "outputs": [],
   "source": [
    "# Убрать NaN\n",
    "df['Age'] = df.groupby(['Pclass', 'Sex'])['Age'].transform(lambda x: x.fillna(x.median()))\n",
    "df['HasCabin'] = df['Cabin'].apply(lambda x: 0 if pd.isna(x) else 1)\n",
    "df['Embarked'] = df['Embarked'].fillna(df['Embarked'].mode()[0])\n",
    "# Бесполезное\n",
    "df = df.drop(columns = ['PassengerId', 'Name', 'Ticket', 'Cabin'])\n",
    "# OHE\n",
    "df['Sex'] = df['Sex'].apply(lambda x: 0 if x == 'male' else 1)\n",
    "df = pd.concat([df, pd.get_dummies(df['Embarked'], prefix = 'Em')], axis=1)\n",
    "df = pd.concat([df, pd.get_dummies(df['Sex'], prefix = 'Sex')], axis=1)\n",
    "df = pd.concat([df, pd.get_dummies(df['Pclass'], prefix = 'Pclass')], axis=1)\n",
    "df = df.drop(columns = ['Embarked', 'Sex'])\n",
    "df = df.drop(columns = ['Em_C', 'Sex_0', 'Pclass_1'])\n",
    "# Один признак вместо двух\n",
    "df['famsize'] = df['SibSp'] + df['Parch']\n",
    "df = df.drop(columns = ['SibSp', 'Parch'])\n",
    "# Копия, чтобы не трогать оригинал\n",
    "df_nrml = df.copy()\n",
    "# Нормализация\n",
    "df_nrml['Age_n'] = (df_nrml['Age'] - df_nrml['Age'].min())/(df_nrml['Age'].max() - df_nrml['Age'].min())\n",
    "df_nrml['Fare_n'] = (df_nrml['Fare'] - df_nrml['Fare'].min())/(df_nrml['Fare'].max() - df_nrml['Fare'].min())\n",
    "df_nrml['famsize_n'] = (df_nrml['famsize'] - df_nrml['famsize'].min())/(df_nrml['famsize'].max() - df_nrml['famsize'].min())\n",
    "df_nrml = df_nrml.drop(columns = ['Age', 'famsize', 'Fare'])\n",
    "# Делим\n",
    "x = df_nrml.drop(columns = ['Survived'])\n",
    "y = df_nrml['Survived']"
   ]
  },
  {
   "cell_type": "code",
   "execution_count": 19,
   "id": "4215958b-aa8a-4237-8af0-039f083e1340",
   "metadata": {},
   "outputs": [],
   "source": [
    "y = y.apply(lambda x: -1 if x == 0 else 1)"
   ]
  },
  {
   "cell_type": "code",
   "execution_count": 20,
   "id": "46931783-2942-492f-bf19-374b299bd0ec",
   "metadata": {},
   "outputs": [],
   "source": [
    "import random\n",
    "\n",
    "w = [random.uniform(-0.01, 0.01) for i in range(x.shape[1])]"
   ]
  },
  {
   "cell_type": "code",
   "execution_count": 21,
   "id": "5b295be8-27a7-44f2-8d2e-9c50ede0f7b5",
   "metadata": {},
   "outputs": [],
   "source": [
    "b = random.uniform(-0.01, 0.01)"
   ]
  },
  {
   "cell_type": "code",
   "execution_count": 81,
   "id": "2e415137-d3aa-4907-a736-c76950a9c7a0",
   "metadata": {},
   "outputs": [],
   "source": [
    "L2 = 0.001\n",
    "epochs = 6000\n",
    "lr = 0.001"
   ]
  },
  {
   "cell_type": "code",
   "execution_count": 23,
   "id": "429a75d0-64ec-49db-9b5c-d6b6993afb51",
   "metadata": {},
   "outputs": [],
   "source": [
    "xl = x.values.tolist()\n",
    "yl = y.values.tolist()"
   ]
  },
  {
   "cell_type": "code",
   "execution_count": 86,
   "id": "20d79ab6-3bc1-4ea7-a48f-a40b430e7559",
   "metadata": {},
   "outputs": [],
   "source": [
    "def pred(x, w, b):\n",
    "    return sum([w[i] * x[i] for i in range(len(x))]) + b"
   ]
  },
  {
   "cell_type": "code",
   "execution_count": 90,
   "id": "4c14ddb7-6a14-416e-9218-dfc59413f408",
   "metadata": {},
   "outputs": [],
   "source": [
    "def learn(xl, yl, w, b, lr, epoch):\n",
    "    for epoch in range(epochs):\n",
    "        y_p = []\n",
    "        for i in range(len(xl)):\n",
    "            a = pred(xl[i], w, b)\n",
    "            y_p.append(a)\n",
    "\n",
    "            if yl[i] * a >= 1:\n",
    "                for j in range(len(xl[i])):\n",
    "                    w[j] -= lr * 2 * L2 * w[j]\n",
    "            else:\n",
    "                for j in range(len(xl[i])):\n",
    "                    w[j] -= lr *  (2 * L2 * w[j] - yl[i] * xl[i][j])\n",
    "                b += lr * yl[i]\n",
    "    \n",
    "    return w, b"
   ]
  },
  {
   "cell_type": "code",
   "execution_count": 26,
   "id": "fe0e1bf0-219a-4fb1-ac61-5bfb104ba835",
   "metadata": {},
   "outputs": [],
   "source": [
    "split = int(0.8 * len(xl))\n",
    "\n",
    "xl_train = xl[:split]\n",
    "yl_train = yl[:split]\n",
    "\n",
    "xl_test = xl[split:]\n",
    "yl_test = yl[split:]"
   ]
  },
  {
   "cell_type": "code",
   "execution_count": 91,
   "id": "53b8ef45-1568-451d-8ea0-add22fda4833",
   "metadata": {},
   "outputs": [
    {
     "data": {
      "text/plain": [
       "([-0.004178063150986046,\n",
       "  0.026411605705667907,\n",
       "  -0.009887187626282809,\n",
       "  -0.009991202981521514,\n",
       "  2.0093151006403454,\n",
       "  0.013284560280055828,\n",
       "  -0.011911740788230409,\n",
       "  -0.06432651838863092,\n",
       "  0.019902442561607944,\n",
       "  -0.10109090307790286],\n",
       " -0.9547868949416789)"
      ]
     },
     "execution_count": 91,
     "metadata": {},
     "output_type": "execute_result"
    }
   ],
   "source": [
    "learn(xl_train, yl_train, w, b, lr, epoch)"
   ]
  },
  {
   "cell_type": "code",
   "execution_count": 95,
   "id": "5bdd0c20-1a3d-4597-b686-9cd37d4c9984",
   "metadata": {},
   "outputs": [],
   "source": [
    "def accuracy(xl, yl, w, b):\n",
    "    y_pred = [(1 if pred(i, w, b) >=0 else -1) for i in xl]\n",
    "\n",
    "    acc = sum(y_pred[i] == yl[i] for i in range(len(y_pred)))/len(y_pred)\n",
    "    return acc"
   ]
  },
  {
   "cell_type": "code",
   "execution_count": 96,
   "id": "ae9b0cc5-8f21-42d2-9442-9b022c008eb5",
   "metadata": {},
   "outputs": [
    {
     "data": {
      "text/plain": [
       "0.7837078651685393"
      ]
     },
     "execution_count": 96,
     "metadata": {},
     "output_type": "execute_result"
    }
   ],
   "source": [
    "accuracy(xl_train, yl_train, w, b)"
   ]
  },
  {
   "cell_type": "code",
   "execution_count": 98,
   "id": "a4784f8d-63a0-4c6e-95f4-af7e0fbc8f8f",
   "metadata": {},
   "outputs": [
    {
     "data": {
      "text/plain": [
       "0.7988826815642458"
      ]
     },
     "execution_count": 98,
     "metadata": {},
     "output_type": "execute_result"
    }
   ],
   "source": [
    "accuracy(xl_test, yl_test, w, b)"
   ]
  }
 ],
 "metadata": {
  "kernelspec": {
   "display_name": "Python 3 (ipykernel)",
   "language": "python",
   "name": "python3"
  },
  "language_info": {
   "codemirror_mode": {
    "name": "ipython",
    "version": 3
   },
   "file_extension": ".py",
   "mimetype": "text/x-python",
   "name": "python",
   "nbconvert_exporter": "python",
   "pygments_lexer": "ipython3",
   "version": "3.12.1"
  }
 },
 "nbformat": 4,
 "nbformat_minor": 5
}
